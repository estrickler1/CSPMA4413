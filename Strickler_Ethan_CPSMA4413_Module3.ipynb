{
  "nbformat": 4,
  "nbformat_minor": 0,
  "metadata": {
    "colab": {
      "name": "Strickler.Ethan_CPSMA4413_Module3.ipynb",
      "provenance": [],
      "collapsed_sections": [],
      "include_colab_link": true
    },
    "kernelspec": {
      "name": "python3",
      "display_name": "Python 3"
    }
  },
  "cells": [
    {
      "cell_type": "markdown",
      "metadata": {
        "id": "view-in-github",
        "colab_type": "text"
      },
      "source": [
        "<a href=\"https://colab.research.google.com/github/estrickler1/CSPMA4413/blob/main/Strickler_Ethan_CPSMA4413_Module3.ipynb\" target=\"_parent\"><img src=\"https://colab.research.google.com/assets/colab-badge.svg\" alt=\"Open In Colab\"/></a>"
      ]
    },
    {
      "cell_type": "markdown",
      "metadata": {
        "id": "Ym8B6nJDak8R"
      },
      "source": [
        "Author of Code:\r\n",
        "\r\n",
        "Watan Chaudhary\r\n",
        "\r\n",
        "Chiran Rayamajhi\r\n",
        "\r\n",
        "Bigyan Sharma\r\n",
        "\r\n",
        "Ethan Strickler"
      ]
    },
    {
      "cell_type": "code",
      "metadata": {
        "id": "j2SZTbE5h3X7"
      },
      "source": [
        "import math\r\n",
        "Pi = math.pi                                                                                                     #Number Pi\r\n",
        "Sqrt2 = math.sqrt(2)                                                                                             #Number SQRT(2)\r\n",
        "Center = Pi/4                                                                                                    #Taylor Series Center, Able to Change at any Time, Integrated Throughout Program\r\n",
        "Funct = lambda x: x**3 - 0.165*x**2 + 3.993*10**(-4)                                                             #Chosen Function\r\n",
        "Der = lambda x: 3*x**2 - 0.33*x                                                                                  #Derivative of Chosen Function\r\n",
        "\r\n",
        "def TrueError(Estimate, Actual):                                                                                 #Defines True Error\r\n",
        "  return Actual - Estimate\r\n",
        "\r\n",
        "def RelativeTrueError(Estimate, Actual):                                                                         #Defines Relative True Error\r\n",
        "  return TrueError(Estimate, Actual) / Actual\r\n",
        "\r\n",
        "def ApproximateError(PreEstimate, CurEstimate):                                                                  #Defines Approximate Error\r\n",
        "  return CurEstimate - PreEstimate\r\n",
        "\r\n",
        "def RelativeApproximateError(PreEstimate, CurEstimate):                                                          #Defines Relative Approximate Error\r\n",
        "  return ApproximateError(PreEstimate, CurEstimate) / CurEstimate\r\n",
        "def GeneralTaylorCoefficient(Degree):                                                                            #Defines General Taylor Series\r\n",
        "  return (-1)**(math.floor(Degree/2))/(Sqrt2*math.factorial(Degree))\r\n",
        "\r\n",
        "def TaylorPolynomialTerm(Degree, Input):                                                                         #Defines Specific Term in Taylor Series\r\n",
        "  return GeneralTaylorCoefficient(Degree)*(Input-Center)**Degree\r\n",
        "\r\n",
        "def TaylorPolynomial(Degree, Input):                                                                             #Defines a Taylor Series, with a Specified Order, and Input\r\n",
        "  sum = 0\r\n",
        "  for i in range(0, Degree+1):\r\n",
        "    sum = sum +  TaylorPolynomialTerm(i, Input)\r\n",
        "  return sum\r\n",
        "\r\n",
        "def LagrangeCoefficient(InArray,OutArray,Entry,Variable):                                                        #Defines Lagrange Coefficient\r\n",
        "  lc = 1\r\n",
        "  for i in range(len(InArray)):\r\n",
        "    if i == Entry:\r\n",
        "      continue\r\n",
        "    else:\r\n",
        "      lc = lc*(Variable - InArray[i])/(InArray[Entry]-InArray[i])\r\n",
        "  return lc\r\n",
        "\r\n",
        "def LagrangeInterpolator(InArray, OutArray, Variable):                                                           #Defines LagrangeInterpolator\r\n",
        "  li = 0\r\n",
        "  for i in range(len(InArray)):\r\n",
        "    li = li + LagrangeCoefficient(InArray,OutArray,i,Variable)*OutArray[i]\r\n",
        "  return li"
      ],
      "execution_count": null,
      "outputs": []
    },
    {
      "cell_type": "code",
      "metadata": {
        "id": "TOkNh1C9jkdf"
      },
      "source": [
        "def NewtonIterator(Function, Derivative, CurValue):                                                              #Defines Newton Iterator\r\n",
        "  return CurValue - Function(CurValue)/Derivative(CurValue)"
      ],
      "execution_count": null,
      "outputs": []
    },
    {
      "cell_type": "code",
      "metadata": {
        "id": "I_aar6hTj487"
      },
      "source": [
        "def NewtonAlgorithm(Function, Derivative, IntValue, Tolerrance, MaxIterations):                                  #Defines Netwon Algorithm used to find the next spacial values\r\n",
        "  x = IntValue\r\n",
        "  i = 1\r\n",
        "  while i <= (MaxIterations):                                                                                \r\n",
        "    if Derivative == 0:                                                                                          #Checks for Division by Zero\r\n",
        "      return 'Zero Derivative, therefore divides by zero. Thus, No Solution'\r\n",
        "    if abs(Function(x)) < Tolerrance:                                                                            #Checks if the Tolerrance is met\r\n",
        "      return [x,i]\r\n",
        "    x = NewtonIterator(Function, Derivative, x)                                                                  #Calls the NewtonIterator to Find the next Value of x\r\n",
        "    i = i + 1                                                                                                    #Creates the next Spacial Step\r\n",
        "  return 'The number of iterations is exceeded. Must have a higher number of iterations.'\r\n",
        "  return None\r\n",
        "  "
      ],
      "execution_count": null,
      "outputs": []
    },
    {
      "cell_type": "code",
      "metadata": {
        "id": "KPHy2Lr7xkVe",
        "colab": {
          "base_uri": "https://localhost:8080/"
        },
        "outputId": "99350932-78f9-4282-adef-ea12eb54928f"
      },
      "source": [
        "NewtonAlgorithm(Funct, Der, 1, 0.001, 10)                                                                         #Using Newton Algorithm"
      ],
      "execution_count": null,
      "outputs": [
        {
          "output_type": "execute_result",
          "data": {
            "text/plain": [
              "[0.16557352841216189, 7]"
            ]
          },
          "metadata": {
            "tags": []
          },
          "execution_count": 8
        }
      ]
    },
    {
      "cell_type": "code",
      "metadata": {
        "colab": {
          "base_uri": "https://localhost:8080/"
        },
        "id": "rEYn5S-qSUjb",
        "outputId": "665b6240-7171-47ca-f44a-04d1e099ca8f"
      },
      "source": [
        "NewtonAlgorithm(Funct, Der, 5, 0.001, 11)"
      ],
      "execution_count": null,
      "outputs": [
        {
          "output_type": "execute_result",
          "data": {
            "text/plain": [
              "[0.16764805046489362, 11]"
            ]
          },
          "metadata": {
            "tags": []
          },
          "execution_count": 9
        }
      ]
    },
    {
      "cell_type": "code",
      "metadata": {
        "id": "FAixm5PGxArR",
        "colab": {
          "base_uri": "https://localhost:8080/"
        },
        "outputId": "6e113278-fa96-4a8e-b3d4-1e4d80c72f93"
      },
      "source": [
        "\r\n",
        "SeedValue = [Pi/6, Pi/3, Pi/4, Pi/2, Pi, 3*Pi/2, 2*Pi, 0.1, 0.25, 0.5, 1, 2, 3, 5, 10, 15, 20]\r\n",
        "Roots = []\r\n",
        "Iterations = []\r\n",
        "Tolerrance = 0.00001\r\n",
        "MaxIterations = 30\r\n",
        "\r\n",
        "for Seed in SeedValue:                                                                                   #Creating a Large Number of Tests\r\n",
        "\r\n",
        "  if NewtonAlgorithm(Funct, Der, Seed, Tolerrance, MaxIterations) != None:\r\n",
        "    Roots.append(NewtonAlgorithm(Funct, Der, Seed, Tolerrance, MaxIterations)[0])\r\n",
        "    Iterations.append(NewtonAlgorithm(Funct, Der, Seed, Tolerrance, MaxIterations)[1])\r\n",
        "\r\n",
        "  else:\r\n",
        "    Roots.append('None Found')\r\n",
        "    Iterations.append('>',MaxIterations)\r\n",
        "\r\n",
        "print(SeedValue)\r\n",
        "print(Roots)\r\n",
        "print(Iterations)"
      ],
      "execution_count": null,
      "outputs": [
        {
          "output_type": "stream",
          "text": [
            "[0.5235987755982988, 1.0471975511965976, 0.7853981633974483, 1.5707963267948966, 3.141592653589793, 4.71238898038469, 6.283185307179586, 0.1, 0.25, 0.5, 1, 2, 3, 5, 10, 15, 20]\n",
            "[0.14636633463347515, 0.14677547414251266, 0.14637284055492858, 0.14685006623205382, 0.14656175260649806, 0.14657395793506175, 0.14642296229400395, 0.06315888783266142, 0.14657793016749582, 0.14677278805896787, 0.14662897517269097, 0.14647295372735347, 0.14648529551522205, 0.14673052799019526, 0.14648638378293458, 0.14648887562742027, 0.14639295243668574]\n",
            "[8, 9, 9, 10, 12, 13, 14, 5, 5, 7, 9, 11, 12, 13, 15, 16, 17]\n"
          ],
          "name": "stdout"
        }
      ]
    },
    {
      "cell_type": "code",
      "metadata": {
        "id": "4xFwmyb1yAO3",
        "colab": {
          "base_uri": "https://localhost:8080/",
          "height": 542
        },
        "outputId": "fb6d2bc5-a5c4-42a9-e371-d6cb9e226f22"
      },
      "source": [
        "import plotly.graph_objects as go\r\n",
        "from plotly.subplots import make_subplots\r\n",
        "\r\n",
        "fig = go.Figure(data=[go.Table(\r\n",
        "                header=dict(values=['Seeds', 'Roots', 'Iterations']),\r\n",
        "                 cells=dict(values = [SeedValue, Roots, Iterations]))\r\n",
        "                     ])\r\n",
        "fig.show()"
      ],
      "execution_count": null,
      "outputs": [
        {
          "output_type": "display_data",
          "data": {
            "text/html": [
              "<html>\n",
              "<head><meta charset=\"utf-8\" /></head>\n",
              "<body>\n",
              "    <div>\n",
              "            <script src=\"https://cdnjs.cloudflare.com/ajax/libs/mathjax/2.7.5/MathJax.js?config=TeX-AMS-MML_SVG\"></script><script type=\"text/javascript\">if (window.MathJax) {MathJax.Hub.Config({SVG: {font: \"STIX-Web\"}});}</script>\n",
              "                <script type=\"text/javascript\">window.PlotlyConfig = {MathJaxConfig: 'local'};</script>\n",
              "        <script src=\"https://cdn.plot.ly/plotly-latest.min.js\"></script>    \n",
              "            <div id=\"ef018b05-025c-494d-936b-a84811e0b9dd\" class=\"plotly-graph-div\" style=\"height:525px; width:100%;\"></div>\n",
              "            <script type=\"text/javascript\">\n",
              "                \n",
              "                    window.PLOTLYENV=window.PLOTLYENV || {};\n",
              "                    \n",
              "                if (document.getElementById(\"ef018b05-025c-494d-936b-a84811e0b9dd\")) {\n",
              "                    Plotly.newPlot(\n",
              "                        'ef018b05-025c-494d-936b-a84811e0b9dd',\n",
              "                        [{\"cells\": {\"values\": [[0.5235987755982988, 1.0471975511965976, 0.7853981633974483, 1.5707963267948966, 3.141592653589793, 4.71238898038469, 6.283185307179586, 0.1, 0.25, 0.5, 1, 2, 3, 5, 10, 15, 20], [0.14636633463347515, 0.14677547414251266, 0.14637284055492858, 0.14685006623205382, 0.14656175260649806, 0.14657395793506175, 0.14642296229400395, 0.06315888783266142, 0.14657793016749582, 0.14677278805896787, 0.14662897517269097, 0.14647295372735347, 0.14648529551522205, 0.14673052799019526, 0.14648638378293458, 0.14648887562742027, 0.14639295243668574], [8, 9, 9, 10, 12, 13, 14, 5, 5, 7, 9, 11, 12, 13, 15, 16, 17]]}, \"header\": {\"values\": [\"Seeds\", \"Roots\", \"Iterations\"]}, \"type\": \"table\"}],\n",
              "                        {\"template\": {\"data\": {\"bar\": [{\"error_x\": {\"color\": \"#2a3f5f\"}, \"error_y\": {\"color\": \"#2a3f5f\"}, \"marker\": {\"line\": {\"color\": \"#E5ECF6\", \"width\": 0.5}}, \"type\": \"bar\"}], \"barpolar\": [{\"marker\": {\"line\": {\"color\": \"#E5ECF6\", \"width\": 0.5}}, \"type\": \"barpolar\"}], \"carpet\": [{\"aaxis\": {\"endlinecolor\": \"#2a3f5f\", \"gridcolor\": \"white\", \"linecolor\": \"white\", \"minorgridcolor\": \"white\", \"startlinecolor\": \"#2a3f5f\"}, \"baxis\": {\"endlinecolor\": \"#2a3f5f\", \"gridcolor\": \"white\", \"linecolor\": \"white\", \"minorgridcolor\": \"white\", \"startlinecolor\": \"#2a3f5f\"}, \"type\": \"carpet\"}], \"choropleth\": [{\"colorbar\": {\"outlinewidth\": 0, \"ticks\": \"\"}, \"type\": \"choropleth\"}], \"contour\": [{\"colorbar\": {\"outlinewidth\": 0, \"ticks\": \"\"}, \"colorscale\": [[0.0, \"#0d0887\"], [0.1111111111111111, \"#46039f\"], [0.2222222222222222, \"#7201a8\"], [0.3333333333333333, \"#9c179e\"], [0.4444444444444444, \"#bd3786\"], [0.5555555555555556, \"#d8576b\"], [0.6666666666666666, \"#ed7953\"], [0.7777777777777778, \"#fb9f3a\"], [0.8888888888888888, \"#fdca26\"], [1.0, \"#f0f921\"]], \"type\": \"contour\"}], \"contourcarpet\": [{\"colorbar\": {\"outlinewidth\": 0, \"ticks\": \"\"}, \"type\": \"contourcarpet\"}], \"heatmap\": [{\"colorbar\": {\"outlinewidth\": 0, \"ticks\": \"\"}, \"colorscale\": [[0.0, \"#0d0887\"], [0.1111111111111111, \"#46039f\"], [0.2222222222222222, \"#7201a8\"], [0.3333333333333333, \"#9c179e\"], [0.4444444444444444, \"#bd3786\"], [0.5555555555555556, \"#d8576b\"], [0.6666666666666666, \"#ed7953\"], [0.7777777777777778, \"#fb9f3a\"], [0.8888888888888888, \"#fdca26\"], [1.0, \"#f0f921\"]], \"type\": \"heatmap\"}], \"heatmapgl\": [{\"colorbar\": {\"outlinewidth\": 0, \"ticks\": \"\"}, \"colorscale\": [[0.0, \"#0d0887\"], [0.1111111111111111, \"#46039f\"], [0.2222222222222222, \"#7201a8\"], [0.3333333333333333, \"#9c179e\"], [0.4444444444444444, \"#bd3786\"], [0.5555555555555556, \"#d8576b\"], [0.6666666666666666, \"#ed7953\"], [0.7777777777777778, \"#fb9f3a\"], [0.8888888888888888, \"#fdca26\"], [1.0, \"#f0f921\"]], \"type\": \"heatmapgl\"}], \"histogram\": [{\"marker\": {\"colorbar\": {\"outlinewidth\": 0, \"ticks\": \"\"}}, \"type\": \"histogram\"}], \"histogram2d\": [{\"colorbar\": {\"outlinewidth\": 0, \"ticks\": \"\"}, \"colorscale\": [[0.0, \"#0d0887\"], [0.1111111111111111, \"#46039f\"], [0.2222222222222222, \"#7201a8\"], [0.3333333333333333, \"#9c179e\"], [0.4444444444444444, \"#bd3786\"], [0.5555555555555556, \"#d8576b\"], [0.6666666666666666, \"#ed7953\"], [0.7777777777777778, \"#fb9f3a\"], [0.8888888888888888, \"#fdca26\"], [1.0, \"#f0f921\"]], \"type\": \"histogram2d\"}], \"histogram2dcontour\": [{\"colorbar\": {\"outlinewidth\": 0, \"ticks\": \"\"}, \"colorscale\": [[0.0, \"#0d0887\"], [0.1111111111111111, \"#46039f\"], [0.2222222222222222, \"#7201a8\"], [0.3333333333333333, \"#9c179e\"], [0.4444444444444444, \"#bd3786\"], [0.5555555555555556, \"#d8576b\"], [0.6666666666666666, \"#ed7953\"], [0.7777777777777778, \"#fb9f3a\"], [0.8888888888888888, \"#fdca26\"], [1.0, \"#f0f921\"]], \"type\": \"histogram2dcontour\"}], \"mesh3d\": [{\"colorbar\": {\"outlinewidth\": 0, \"ticks\": \"\"}, \"type\": \"mesh3d\"}], \"parcoords\": [{\"line\": {\"colorbar\": {\"outlinewidth\": 0, \"ticks\": \"\"}}, \"type\": \"parcoords\"}], \"pie\": [{\"automargin\": true, \"type\": \"pie\"}], \"scatter\": [{\"marker\": {\"colorbar\": {\"outlinewidth\": 0, \"ticks\": \"\"}}, \"type\": \"scatter\"}], \"scatter3d\": [{\"line\": {\"colorbar\": {\"outlinewidth\": 0, \"ticks\": \"\"}}, \"marker\": {\"colorbar\": {\"outlinewidth\": 0, \"ticks\": \"\"}}, \"type\": \"scatter3d\"}], \"scattercarpet\": [{\"marker\": {\"colorbar\": {\"outlinewidth\": 0, \"ticks\": \"\"}}, \"type\": \"scattercarpet\"}], \"scattergeo\": [{\"marker\": {\"colorbar\": {\"outlinewidth\": 0, \"ticks\": \"\"}}, \"type\": \"scattergeo\"}], \"scattergl\": [{\"marker\": {\"colorbar\": {\"outlinewidth\": 0, \"ticks\": \"\"}}, \"type\": \"scattergl\"}], \"scattermapbox\": [{\"marker\": {\"colorbar\": {\"outlinewidth\": 0, \"ticks\": \"\"}}, \"type\": \"scattermapbox\"}], \"scatterpolar\": [{\"marker\": {\"colorbar\": {\"outlinewidth\": 0, \"ticks\": \"\"}}, \"type\": \"scatterpolar\"}], \"scatterpolargl\": [{\"marker\": {\"colorbar\": {\"outlinewidth\": 0, \"ticks\": \"\"}}, \"type\": \"scatterpolargl\"}], \"scatterternary\": [{\"marker\": {\"colorbar\": {\"outlinewidth\": 0, \"ticks\": \"\"}}, \"type\": \"scatterternary\"}], \"surface\": [{\"colorbar\": {\"outlinewidth\": 0, \"ticks\": \"\"}, \"colorscale\": [[0.0, \"#0d0887\"], [0.1111111111111111, \"#46039f\"], [0.2222222222222222, \"#7201a8\"], [0.3333333333333333, \"#9c179e\"], [0.4444444444444444, \"#bd3786\"], [0.5555555555555556, \"#d8576b\"], [0.6666666666666666, \"#ed7953\"], [0.7777777777777778, \"#fb9f3a\"], [0.8888888888888888, \"#fdca26\"], [1.0, \"#f0f921\"]], \"type\": \"surface\"}], \"table\": [{\"cells\": {\"fill\": {\"color\": \"#EBF0F8\"}, \"line\": {\"color\": \"white\"}}, \"header\": {\"fill\": {\"color\": \"#C8D4E3\"}, \"line\": {\"color\": \"white\"}}, \"type\": \"table\"}]}, \"layout\": {\"annotationdefaults\": {\"arrowcolor\": \"#2a3f5f\", \"arrowhead\": 0, \"arrowwidth\": 1}, \"coloraxis\": {\"colorbar\": {\"outlinewidth\": 0, \"ticks\": \"\"}}, \"colorscale\": {\"diverging\": [[0, \"#8e0152\"], [0.1, \"#c51b7d\"], [0.2, \"#de77ae\"], [0.3, \"#f1b6da\"], [0.4, \"#fde0ef\"], [0.5, \"#f7f7f7\"], [0.6, \"#e6f5d0\"], [0.7, \"#b8e186\"], [0.8, \"#7fbc41\"], [0.9, \"#4d9221\"], [1, \"#276419\"]], \"sequential\": [[0.0, \"#0d0887\"], [0.1111111111111111, \"#46039f\"], [0.2222222222222222, \"#7201a8\"], [0.3333333333333333, \"#9c179e\"], [0.4444444444444444, \"#bd3786\"], [0.5555555555555556, \"#d8576b\"], [0.6666666666666666, \"#ed7953\"], [0.7777777777777778, \"#fb9f3a\"], [0.8888888888888888, \"#fdca26\"], [1.0, \"#f0f921\"]], \"sequentialminus\": [[0.0, \"#0d0887\"], [0.1111111111111111, \"#46039f\"], [0.2222222222222222, \"#7201a8\"], [0.3333333333333333, \"#9c179e\"], [0.4444444444444444, \"#bd3786\"], [0.5555555555555556, \"#d8576b\"], [0.6666666666666666, \"#ed7953\"], [0.7777777777777778, \"#fb9f3a\"], [0.8888888888888888, \"#fdca26\"], [1.0, \"#f0f921\"]]}, \"colorway\": [\"#636efa\", \"#EF553B\", \"#00cc96\", \"#ab63fa\", \"#FFA15A\", \"#19d3f3\", \"#FF6692\", \"#B6E880\", \"#FF97FF\", \"#FECB52\"], \"font\": {\"color\": \"#2a3f5f\"}, \"geo\": {\"bgcolor\": \"white\", \"lakecolor\": \"white\", \"landcolor\": \"#E5ECF6\", \"showlakes\": true, \"showland\": true, \"subunitcolor\": \"white\"}, \"hoverlabel\": {\"align\": \"left\"}, \"hovermode\": \"closest\", \"mapbox\": {\"style\": \"light\"}, \"paper_bgcolor\": \"white\", \"plot_bgcolor\": \"#E5ECF6\", \"polar\": {\"angularaxis\": {\"gridcolor\": \"white\", \"linecolor\": \"white\", \"ticks\": \"\"}, \"bgcolor\": \"#E5ECF6\", \"radialaxis\": {\"gridcolor\": \"white\", \"linecolor\": \"white\", \"ticks\": \"\"}}, \"scene\": {\"xaxis\": {\"backgroundcolor\": \"#E5ECF6\", \"gridcolor\": \"white\", \"gridwidth\": 2, \"linecolor\": \"white\", \"showbackground\": true, \"ticks\": \"\", \"zerolinecolor\": \"white\"}, \"yaxis\": {\"backgroundcolor\": \"#E5ECF6\", \"gridcolor\": \"white\", \"gridwidth\": 2, \"linecolor\": \"white\", \"showbackground\": true, \"ticks\": \"\", \"zerolinecolor\": \"white\"}, \"zaxis\": {\"backgroundcolor\": \"#E5ECF6\", \"gridcolor\": \"white\", \"gridwidth\": 2, \"linecolor\": \"white\", \"showbackground\": true, \"ticks\": \"\", \"zerolinecolor\": \"white\"}}, \"shapedefaults\": {\"line\": {\"color\": \"#2a3f5f\"}}, \"ternary\": {\"aaxis\": {\"gridcolor\": \"white\", \"linecolor\": \"white\", \"ticks\": \"\"}, \"baxis\": {\"gridcolor\": \"white\", \"linecolor\": \"white\", \"ticks\": \"\"}, \"bgcolor\": \"#E5ECF6\", \"caxis\": {\"gridcolor\": \"white\", \"linecolor\": \"white\", \"ticks\": \"\"}}, \"title\": {\"x\": 0.05}, \"xaxis\": {\"automargin\": true, \"gridcolor\": \"white\", \"linecolor\": \"white\", \"ticks\": \"\", \"title\": {\"standoff\": 15}, \"zerolinecolor\": \"white\", \"zerolinewidth\": 2}, \"yaxis\": {\"automargin\": true, \"gridcolor\": \"white\", \"linecolor\": \"white\", \"ticks\": \"\", \"title\": {\"standoff\": 15}, \"zerolinecolor\": \"white\", \"zerolinewidth\": 2}}}},\n",
              "                        {\"responsive\": true}\n",
              "                    ).then(function(){\n",
              "                            \n",
              "var gd = document.getElementById('ef018b05-025c-494d-936b-a84811e0b9dd');\n",
              "var x = new MutationObserver(function (mutations, observer) {{\n",
              "        var display = window.getComputedStyle(gd).display;\n",
              "        if (!display || display === 'none') {{\n",
              "            console.log([gd, 'removed!']);\n",
              "            Plotly.purge(gd);\n",
              "            observer.disconnect();\n",
              "        }}\n",
              "}});\n",
              "\n",
              "// Listen for the removal of the full notebook cells\n",
              "var notebookContainer = gd.closest('#notebook-container');\n",
              "if (notebookContainer) {{\n",
              "    x.observe(notebookContainer, {childList: true});\n",
              "}}\n",
              "\n",
              "// Listen for the clearing of the current output cell\n",
              "var outputEl = gd.closest('.output');\n",
              "if (outputEl) {{\n",
              "    x.observe(outputEl, {childList: true});\n",
              "}}\n",
              "\n",
              "                        })\n",
              "                };\n",
              "                \n",
              "            </script>\n",
              "        </div>\n",
              "</body>\n",
              "</html>"
            ]
          },
          "metadata": {
            "tags": []
          }
        }
      ]
    },
    {
      "cell_type": "markdown",
      "metadata": {
        "id": "IaQiRqAxtwBy"
      },
      "source": [
        "Secant method to find root of the function\r\n"
      ]
    },
    {
      "cell_type": "code",
      "metadata": {
        "id": "Dr3OKwl5uAm3"
      },
      "source": [
        "def Secant(Function, OldValue, NewValue):\r\n",
        "  x = NewValue - Function(NewValue)*(NewValue - OldValue)/(Function(NewValue)-Function(OldValue))        \r\n",
        "  return x\r\n",
        "\r\n",
        "def SecantMethod(Function, FstValue, SndValue, Iterations):\r\n",
        "  x = [FstValue, SndValue]\r\n",
        "  for i in range(Iterations):\r\n",
        "    x.append(Secant(Function,x[-2],x[-1]))\r\n",
        "  return x"
      ],
      "execution_count": null,
      "outputs": []
    },
    {
      "cell_type": "code",
      "metadata": {
        "colab": {
          "base_uri": "https://localhost:8080/"
        },
        "id": "DiMq-e9csLqo",
        "outputId": "0efb34cc-a77e-4842-b05d-4ea12418202b"
      },
      "source": [
        "SecantMethod(math.sin, 5/2, 7/3, 3)"
      ],
      "execution_count": null,
      "outputs": [
        {
          "output_type": "execute_result",
          "data": {
            "text/plain": [
              "[2.5,\n",
              " 2.3333333333333335,\n",
              " 3.300436286112567,\n",
              " 3.1268523846285965,\n",
              " 3.141649032817743]"
            ]
          },
          "metadata": {
            "tags": []
          },
          "execution_count": 13
        }
      ]
    },
    {
      "cell_type": "code",
      "metadata": {
        "id": "DpxuF6_03HbQ",
        "colab": {
          "base_uri": "https://localhost:8080/",
          "height": 281
        },
        "outputId": "b633563b-ec74-4d38-b0d3-335d52cf0c22"
      },
      "source": [
        "import matplotlib.pyplot as plt\r\n",
        "import numpy as np\r\n",
        "InValues = [Center,Center+.1,2*Center]\r\n",
        "OutValues = [math.sin(x) for x in InValues]\r\n",
        "\r\n",
        "x = np.arange( -3,1,.001)\r\n",
        "plt.scatter(InValues,OutValues)\r\n",
        "plt.plot(x, LagrangeInterpolator(InValues, OutValues,x))\r\n",
        "#plt.plot(x, np.sin(x))\r\n",
        "plt.title('Graph of Lagrange Interpolator')\r\n",
        "plt.legend(['Lagrange Interpolator'])\r\n",
        "\r\n",
        "plt.show()"
      ],
      "execution_count": null,
      "outputs": [
        {
          "output_type": "display_data",
          "data": {
            "image/png": "[encoded data removed]",
            "text/plain": [
              "<Figure size 432x288 with 1 Axes>"
            ]
          },
          "metadata": {
            "tags": [],
            "needs_background": "light"
          }
        }
      ]
    },
    {
      "cell_type": "markdown",
      "metadata": {
        "id": "8K9nvy4Splrz"
      },
      "source": [
        "As, you can see above that we have used secant Method to find the roots of the cubic function we have used. The details of roots values upto 20 are also shown in iteration table. Similary the algorithm and its roots values have been graphed using Lagrange Interpolation method.The three roots values can be seen on the graph. The three  values falls on the rising curve. But it looks like only two values fall on the curve because of small curve."
      ]
    },
    {
      "cell_type": "markdown",
      "metadata": {
        "id": "-rkzxSqtdWGD"
      },
      "source": [
        "We have to find the intial guess, x to the base value zero  in Newton's Method to know the roots of the known function. Once , the initial seeds define the given function to perform under certain circumstances, the values of recurring roots of the function are almost approximate to three decimal values as shown in above iterations table. We were suprised to be honest by the convergence of values of the roots since initial seeds play an important role in it.\n",
        "\n",
        "Here, we came to find out the differences between Newton method & secant algorithm(since we have used secant method instead of bisection or false-position ).Although both methods are almost same , Newton's Method uses a line i.e tangent to one point where as the Secant Method uses a line i.e secant to two points.\n",
        "\n",
        "  The cases like division by zero , root jumping so not getting intended solution, the occurence of Infection point issue are not appropriate for Newton-Raphson Method.\n",
        "\n",
        "  Lagrange Interpolation is generally  used for theory . It helps find the coefficients , only takes linear time to calculate it. we didn't know despite of using this method to solve higher-order polynomials , this takes much computer time, so it's not that much popular method in practical."
      ]
    }
  ]
}