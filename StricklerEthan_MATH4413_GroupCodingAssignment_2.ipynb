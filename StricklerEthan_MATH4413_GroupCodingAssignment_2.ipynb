{
  "nbformat": 4,
  "nbformat_minor": 0,
  "metadata": {
    "colab": {
      "name": "StricklerEthan_MATH4413_GroupCodingAssignment#2.ipynb",
      "provenance": [],
      "collapsed_sections": [],
      "include_colab_link": true
    },
    "kernelspec": {
      "name": "python3",
      "display_name": "Python 3"
    }
  },
  "cells": [
    {
      "cell_type": "markdown",
      "metadata": {
        "id": "view-in-github",
        "colab_type": "text"
      },
      "source": [
        "<a href=\"https://colab.research.google.com/github/estrickler1/CSPMA4413/blob/main/StricklerEthan_MATH4413_GroupCodingAssignment_2.ipynb\" target=\"_parent\"><img src=\"https://colab.research.google.com/assets/colab-badge.svg\" alt=\"Open In Colab\"/></a>"
      ]
    },
    {
      "cell_type": "markdown",
      "metadata": {
        "id": "6wI1PyXMAZ71"
      },
      "source": [
        "Authors of this Code:\r\n",
        "\r\n",
        "Chiran Rayamajhi \r\n",
        "\r\n",
        "Bigyan Sharma \r\n",
        "\r\n",
        "Ethan Strickler\r\n",
        "\r\n",
        "Watan Chadhaury"
      ]
    },
    {
      "cell_type": "code",
      "metadata": {
        "id": "H1JCeKj8i3fQ"
      },
      "source": [
        "import math\r\n",
        "Pi = math.pi                                                                                                     #Number Pi\r\n",
        "Sqrt2 = math.sqrt(2)                                                                                             #Number SQRT(2)\r\n",
        "Center = Pi/4                                                                                                    #Taylor Series Center, Able to Change at any Time, Integrated Throughout Program\r\n",
        "\r\n",
        "def TrueError(Estimate, Actual):                                                                                 #Defines True Error\r\n",
        "  return Actual - Estimate\r\n",
        "\r\n",
        "def RelativeTrueError(Estimate, Actual):                                                                         #Defines Relative True Error\r\n",
        "  return TrueError(Estimate, Actual) / Actual\r\n",
        "\r\n",
        "def ApproximateError(PreEstimate, CurEstimate):                                                                  #Defines Approximate Error\r\n",
        "  return CurEstimate - PreEstimate\r\n",
        "\r\n",
        "def RelativeApproximateError(PreEstimate, CurEstimate):                                                          #Defines Relative Approximate Error\r\n",
        "  return ApproximateError(PreEstimate, CurEstimate) / CurEstimate\r\n",
        "def GeneralTaylorCoefficient(Degree):                                                                            #Defines General Taylor Series\r\n",
        "  return (-1)**(math.floor(Degree/2))/(Sqrt2*math.factorial(Degree))\r\n",
        "\r\n",
        "def TaylorPolynomialTerm(Degree, Input):                                                                         #Defines Specific Term in Taylor Series\r\n",
        "  return GeneralTaylorCoefficient(Degree)*(Input-Center)**Degree\r\n",
        "\r\n",
        "def TaylorPolynomial(Degree, Input):                                                                             #Defines a Taylor Series, with a Specified Order, and Input\r\n",
        "  sum = 0\r\n",
        "  for i in range(0, Degree+1):\r\n",
        "    sum = sum +  TaylorPolynomialTerm(i, Input)\r\n",
        "  return sum\r\n",
        "\r\n",
        "def BackwardDifference(Function,Initial,SpacialStep):                                                             #Defines Backward Differential Estimate\r\n",
        "  return (Function(Initial)-Function(Initial-SpacialStep))/SpacialStep                                            #Intial Refers to the Initial Value of the Variable\r\n",
        "                                                                                                                  \r\n",
        "def CentralDifference(Function,Initial,SpacialStep):                                                              #Defines Central Differential Estimate\r\n",
        "  return (Function(Initial+SpacialStep)-Function(Initial-SpacialStep))/(2*SpacialStep)\r\n",
        "\r\n",
        "def ForwardDifference(Function,Initial,SpacialStep):                                                              #Defines Forward Differential Estimate\r\n",
        "  return (Function(Initial+SpacialStep)-Function(Initial))/SpacialStep\r\n",
        "\r\n",
        "def FiniteDifference(Function,Initial,SpacialStep):                                                               #Defines Finite Difference Approximation\r\n",
        "  return (Function(Initial+2*SpacialStep)-2*Function(Initial+SpacialStep)+Function(Initial))/SpacialStep**2"
      ],
      "execution_count": null,
      "outputs": []
    },
    {
      "cell_type": "code",
      "metadata": {
        "id": "ZYRu7UDkkVgn"
      },
      "source": [
        "StepSize = [1, .5 , .25 , .1,.05,.01,.005,.001,.0005,.0001]                                                       #Spacial Step Size\r\n",
        "Backward = [BackwardDifference(math.sin, Center,Step) for Step in StepSize]                                         #Backward Differential Estimate\r\n",
        "Central = [CentralDifference(math.sin, Center,Step) for Step in StepSize]                                           #Central Differential Estimate\r\n",
        "Forward = [ForwardDifference(math.sin, Center,Step) for Step in StepSize]                                           #Forward Differential Estimate\r\n",
        "Finite = [FiniteDifference(math.sin, Center,Step) for Step in StepSize]                                             #Finite Difference Approximation\r\n",
        "FirstActual = 1/Sqrt2\r\n",
        "SecondActual = -1/Sqrt2"
      ],
      "execution_count": null,
      "outputs": []
    },
    {
      "cell_type": "code",
      "metadata": {
        "id": "Pf9pglOvsSiK"
      },
      "source": [
        "BackwardTrueError = [TrueError(Estimate, FirstActual) for Estimate in Backward]                                   #Backward True Error \r\n",
        "BackwardRelativeError = [RelativeTrueError(Estimate, FirstActual) for Estimate in Backward]                       #Backward Relative True Error\r\n",
        "\r\n",
        "CentralTrueError = [TrueError(Estimate, FirstActual) for Estimate in Central]                                     #Central True Error\r\n",
        "CentralRelativeError = [RelativeTrueError(Estimate, FirstActual) for Estimate in Central]                         #Central Relative True Error\r\n",
        "\r\n",
        "ForwardTrueError = [TrueError(Estimate, FirstActual) for Estimate in Forward]                                     #Forward True Error\r\n",
        "ForwardRelativeError = [RelativeTrueError(Estimate, FirstActual) for Estimate in Forward]                         #Forward Relative True Error\r\n",
        "\r\n",
        "FiniteTrueError = [TrueError(Estimate, SecondActual) for Estimate in Finite]                                      #Finite True Error \r\n",
        "FiniteRelativeError = [RelativeTrueError(Estimate, SecondActual) for Estimate in Finite]                          #Finite Relative True Error"
      ],
      "execution_count": null,
      "outputs": []
    },
    {
      "cell_type": "code",
      "metadata": {
        "colab": {
          "base_uri": "https://localhost:8080/",
          "height": 542
        },
        "id": "-eojMBMNuYXA",
        "outputId": "7062b1fa-ff4c-40c2-e6c5-6a80b3b0aa03"
      },
      "source": [
        "import plotly.graph_objects as go\r\n",
        "from plotly.subplots import make_subplots\r\n",
        "\r\n",
        "fig = make_subplots(\r\n",
        "    rows=4, cols=1,\r\n",
        "    shared_xaxes=True,\r\n",
        "    vertical_spacing=0.03,\r\n",
        "    specs=[[{\"type\": \"table\"}],\r\n",
        "           [{\"type\": \"table\"}],\r\n",
        "           [{\"type\": \"table\"}],\r\n",
        "           [{\"type\": \"table\"}]]\r\n",
        ")\r\n",
        "\r\n",
        "\r\n",
        "fig.add_trace(go.Table(                                                                                                         #Creates Backward Table\r\n",
        "                header=dict(values=['Spacial Step Size', 'Backward Estimate', 'True Error','Relative True Error']),\r\n",
        "                 cells=dict(values = [StepSize,Backward,BackwardTrueError,BackwardRelativeError])),row = 1, col = 1)\r\n",
        "                     \r\n",
        "fig.add_trace(go.Table(                                                                                                         #Creates Central Table\r\n",
        "                header=dict(values=['Spacial Step Size', 'Central Estimate', 'True Error','Relative True Error']),\r\n",
        "                 cells=dict(values = [StepSize,Central,CentralTrueError,CentralRelativeError])),row = 2, col = 1)\r\n",
        "\r\n",
        "fig.add_trace(go.Table(                                                                                                         #Creates Forward Table \r\n",
        "                header=dict(values=['Spacial Step Size', 'Forward Estimate', 'True Error','Relative True Error']),\r\n",
        "                 cells=dict(values = [StepSize,Forward,ForwardTrueError,ForwardRelativeError])),row = 3, col = 1)\r\n",
        "                     \r\n",
        "fig.add_trace(go.Table(                                                                                                         #Creates Finite Table\r\n",
        "                header=dict(values=['Spacial Step Size', 'Finite Estimate', 'True Error','Relative True Error']),\r\n",
        "                 cells=dict(values = [StepSize,Finite,FiniteTrueError,FiniteRelativeError]))\r\n",
        "                     ,row = 4, col = 1)\r\n",
        "fig.show()"
      ],
      "execution_count": null,
      "outputs": [
        {
          "output_type": "display_data",
          "data": {
            "text/html": [
              "<html>\n",
              "<head><meta charset=\"utf-8\" /></head>\n",
              "<body>\n",
              "    <div>\n",
              "            <script src=\"https://cdnjs.cloudflare.com/ajax/libs/mathjax/2.7.5/MathJax.js?config=TeX-AMS-MML_SVG\"></script><script type=\"text/javascript\">if (window.MathJax) {MathJax.Hub.Config({SVG: {font: \"STIX-Web\"}});}</script>\n",
              "                <script type=\"text/javascript\">window.PlotlyConfig = {MathJaxConfig: 'local'};</script>\n",
              "        <script src=\"https://cdn.plot.ly/plotly-latest.min.js\"></script>    \n",
              "            <div id=\"b31dfe0d-c0c3-4a08-9212-653b5f4b5d7d\" class=\"plotly-graph-div\" style=\"height:525px; width:100%;\"></div>\n",
              "            <script type=\"text/javascript\">\n",
              "                \n",
              "                    window.PLOTLYENV=window.PLOTLYENV || {};\n",
              "                    \n",
              "                if (document.getElementById(\"b31dfe0d-c0c3-4a08-9212-653b5f4b5d7d\")) {\n",
              "                    Plotly.newPlot(\n",
              "                        'b31dfe0d-c0c3-4a08-9212-653b5f4b5d7d',\n",
              "                        [{\"cells\": {\"values\": [[1, 0.5, 0.25, 0.1, 0.05, 0.01, 0.005, 0.001, 0.0005, 0.0001], [0.9200651963458437, 0.8511345000876935, 0.7876930188013769, 0.7412547450958928, 0.7244861771760736, 0.710630500575693, 0.7088715981820926, 0.7074602166965427, 0.7072835284152035, 0.7071421353466167], [-0.21295841515929625, -0.14402771890114607, -0.08058623761482941, -0.03414796390934538, -0.017379395989526092, -0.00352371938914553, -0.0017648169955450932, -0.00035343550999522577, -0.00017674722865601566, -3.5354160069278606e-05], [-0.3011686789397569, -0.20368595342766055, -0.11396615017551262, -0.04829251368802322, -0.02457817751424038, -0.0049832917501266465, -0.002495828130206409, -0.0004998332916594999, -0.00024995832787719593, -4.999833265628313e-05]]}, \"domain\": {\"x\": [0.0, 1.0], \"y\": [0.7725, 1.0]}, \"header\": {\"values\": [\"Spacial Step Size\", \"Backward Estimate\", \"True Error\", \"Relative True Error\"]}, \"type\": \"table\"}, {\"cells\": {\"values\": [[1, 0.5, 0.25, 0.1, 0.05, 0.01, 0.005, 0.001, 0.0005, 0.0001], [0.5950098395293859, 0.6780100988420897, 0.6997640691250939, 0.7059288589999413, 0.7068121901873392, 0.7070949961324513, 0.7071038349119818, 0.707106663335455, 0.7071067517236962, 0.70710678000796], [0.11209694165716155, 0.029096682344457725, 0.007342712061453538, 0.0011779221866061729, 0.00029459099920825516, 1.1785054096158376e-05, 2.946274565651663e-06, 1.1785109244044634e-07, 2.9462851269812518e-08, 1.1785874498571047e-09], [0.15852901519210344, 0.0411489227915939, 0.0103841629819081, 0.0016658335317186214, 0.0004166145864333562, 1.6666583336087773e-05, 4.166661449219482e-06, 1.6666661326976455e-07, 4.166676385195023e-08, 1.6667743560306378e-09]]}, \"domain\": {\"x\": [0.0, 1.0], \"y\": [0.515, 0.7425]}, \"header\": {\"values\": [\"Spacial Step Size\", \"Central Estimate\", \"True Error\", \"Relative True Error\"]}, \"type\": \"table\"}, {\"cells\": {\"values\": [[1, 0.5, 0.25, 0.1, 0.05, 0.01, 0.005, 0.001, 0.0005, 0.0001], [0.2699544827129282, 0.5048856975964859, 0.611835119448811, 0.6706029729039897, 0.6891382031986049, 0.7035594916892096, 0.7053360716418711, 0.7067531099743674, 0.7069299750321889, 0.7070714246693033], [0.43715229847361925, 0.20222108359006152, 0.09527166173773649, 0.036503808282557726, 0.017968577987942602, 0.0035472894973378466, 0.0017707095446763965, 0.00035367121218010666, 0.0001768061543585553, 3.535651724417832e-05], [0.6182267093239636, 0.28598379901084836, 0.13473447613932882, 0.05162418075146046, 0.02541140668710709, 0.0050166249167988225, 0.002504161453104848, 0.0005001666248860394, 0.0002500416614048998, 5.0001666204995193e-05]]}, \"domain\": {\"x\": [0.0, 1.0], \"y\": [0.2575, 0.485]}, \"header\": {\"values\": [\"Spacial Step Size\", \"Forward Estimate\", \"True Error\", \"Relative True Error\"]}, \"type\": \"table\"}, {\"cells\": {\"values\": [[1, 0.5, 0.25, 0.1, 0.05, 0.01, 0.005, 0.001, 0.0005, 0.0001], [-0.8983056200803001, -0.9397248595342309, -0.8555953748186003, -0.7735221542528924, -0.7414092117846048, -0.7141364249374504, -0.71063198106458, -0.7078134753868426, -0.7074602312862055, -0.7071774943412379], [0.19119883889375267, 0.23261807834768344, 0.1484885936320528, 0.06641537306634493, 0.034302430598057376, 0.007029643750902981, 0.00352519987803257, 0.0007066942002951215, 0.000353450099658037, 7.071315469042716e-05], [-0.27039599107353346, -0.32897164125246114, -0.20999458297215629, -0.09392552134049378, -0.048510962574134585, -0.00994141753117827, -0.004985385477589642, -0.0009994165225077694, -0.0004998539245585179, -0.00010000350240138873]]}, \"domain\": {\"x\": [0.0, 1.0], \"y\": [0.0, 0.2275]}, \"header\": {\"values\": [\"Spacial Step Size\", \"Finite Estimate\", \"True Error\", \"Relative True Error\"]}, \"type\": \"table\"}],\n",
              "                        {\"template\": {\"data\": {\"bar\": [{\"error_x\": {\"color\": \"#2a3f5f\"}, \"error_y\": {\"color\": \"#2a3f5f\"}, \"marker\": {\"line\": {\"color\": \"#E5ECF6\", \"width\": 0.5}}, \"type\": \"bar\"}], \"barpolar\": [{\"marker\": {\"line\": {\"color\": \"#E5ECF6\", \"width\": 0.5}}, \"type\": \"barpolar\"}], \"carpet\": [{\"aaxis\": {\"endlinecolor\": \"#2a3f5f\", \"gridcolor\": \"white\", \"linecolor\": \"white\", \"minorgridcolor\": \"white\", \"startlinecolor\": \"#2a3f5f\"}, \"baxis\": {\"endlinecolor\": \"#2a3f5f\", \"gridcolor\": \"white\", \"linecolor\": \"white\", \"minorgridcolor\": \"white\", \"startlinecolor\": \"#2a3f5f\"}, \"type\": \"carpet\"}], \"choropleth\": [{\"colorbar\": {\"outlinewidth\": 0, \"ticks\": \"\"}, \"type\": \"choropleth\"}], \"contour\": [{\"colorbar\": {\"outlinewidth\": 0, \"ticks\": \"\"}, \"colorscale\": [[0.0, \"#0d0887\"], [0.1111111111111111, \"#46039f\"], [0.2222222222222222, \"#7201a8\"], [0.3333333333333333, \"#9c179e\"], [0.4444444444444444, \"#bd3786\"], [0.5555555555555556, \"#d8576b\"], [0.6666666666666666, \"#ed7953\"], [0.7777777777777778, \"#fb9f3a\"], [0.8888888888888888, \"#fdca26\"], [1.0, \"#f0f921\"]], \"type\": \"contour\"}], \"contourcarpet\": [{\"colorbar\": {\"outlinewidth\": 0, \"ticks\": \"\"}, \"type\": \"contourcarpet\"}], \"heatmap\": [{\"colorbar\": {\"outlinewidth\": 0, \"ticks\": \"\"}, \"colorscale\": [[0.0, \"#0d0887\"], [0.1111111111111111, \"#46039f\"], [0.2222222222222222, \"#7201a8\"], [0.3333333333333333, \"#9c179e\"], [0.4444444444444444, \"#bd3786\"], [0.5555555555555556, \"#d8576b\"], [0.6666666666666666, \"#ed7953\"], [0.7777777777777778, \"#fb9f3a\"], [0.8888888888888888, \"#fdca26\"], [1.0, \"#f0f921\"]], \"type\": \"heatmap\"}], \"heatmapgl\": [{\"colorbar\": {\"outlinewidth\": 0, \"ticks\": \"\"}, \"colorscale\": [[0.0, \"#0d0887\"], [0.1111111111111111, \"#46039f\"], [0.2222222222222222, \"#7201a8\"], [0.3333333333333333, \"#9c179e\"], [0.4444444444444444, \"#bd3786\"], [0.5555555555555556, \"#d8576b\"], [0.6666666666666666, \"#ed7953\"], [0.7777777777777778, \"#fb9f3a\"], [0.8888888888888888, \"#fdca26\"], [1.0, \"#f0f921\"]], \"type\": \"heatmapgl\"}], \"histogram\": [{\"marker\": {\"colorbar\": {\"outlinewidth\": 0, \"ticks\": \"\"}}, \"type\": \"histogram\"}], \"histogram2d\": [{\"colorbar\": {\"outlinewidth\": 0, \"ticks\": \"\"}, \"colorscale\": [[0.0, \"#0d0887\"], [0.1111111111111111, \"#46039f\"], [0.2222222222222222, \"#7201a8\"], [0.3333333333333333, \"#9c179e\"], [0.4444444444444444, \"#bd3786\"], [0.5555555555555556, \"#d8576b\"], [0.6666666666666666, \"#ed7953\"], [0.7777777777777778, \"#fb9f3a\"], [0.8888888888888888, \"#fdca26\"], [1.0, \"#f0f921\"]], \"type\": \"histogram2d\"}], \"histogram2dcontour\": [{\"colorbar\": {\"outlinewidth\": 0, \"ticks\": \"\"}, \"colorscale\": [[0.0, \"#0d0887\"], [0.1111111111111111, \"#46039f\"], [0.2222222222222222, \"#7201a8\"], [0.3333333333333333, \"#9c179e\"], [0.4444444444444444, \"#bd3786\"], [0.5555555555555556, \"#d8576b\"], [0.6666666666666666, \"#ed7953\"], [0.7777777777777778, \"#fb9f3a\"], [0.8888888888888888, \"#fdca26\"], [1.0, \"#f0f921\"]], \"type\": \"histogram2dcontour\"}], \"mesh3d\": [{\"colorbar\": {\"outlinewidth\": 0, \"ticks\": \"\"}, \"type\": \"mesh3d\"}], \"parcoords\": [{\"line\": {\"colorbar\": {\"outlinewidth\": 0, \"ticks\": \"\"}}, \"type\": \"parcoords\"}], \"pie\": [{\"automargin\": true, \"type\": \"pie\"}], \"scatter\": [{\"marker\": {\"colorbar\": {\"outlinewidth\": 0, \"ticks\": \"\"}}, \"type\": \"scatter\"}], \"scatter3d\": [{\"line\": {\"colorbar\": {\"outlinewidth\": 0, \"ticks\": \"\"}}, \"marker\": {\"colorbar\": {\"outlinewidth\": 0, \"ticks\": \"\"}}, \"type\": \"scatter3d\"}], \"scattercarpet\": [{\"marker\": {\"colorbar\": {\"outlinewidth\": 0, \"ticks\": \"\"}}, \"type\": \"scattercarpet\"}], \"scattergeo\": [{\"marker\": {\"colorbar\": {\"outlinewidth\": 0, \"ticks\": \"\"}}, \"type\": \"scattergeo\"}], \"scattergl\": [{\"marker\": {\"colorbar\": {\"outlinewidth\": 0, \"ticks\": \"\"}}, \"type\": \"scattergl\"}], \"scattermapbox\": [{\"marker\": {\"colorbar\": {\"outlinewidth\": 0, \"ticks\": \"\"}}, \"type\": \"scattermapbox\"}], \"scatterpolar\": [{\"marker\": {\"colorbar\": {\"outlinewidth\": 0, \"ticks\": \"\"}}, \"type\": \"scatterpolar\"}], \"scatterpolargl\": [{\"marker\": {\"colorbar\": {\"outlinewidth\": 0, \"ticks\": \"\"}}, \"type\": \"scatterpolargl\"}], \"scatterternary\": [{\"marker\": {\"colorbar\": {\"outlinewidth\": 0, \"ticks\": \"\"}}, \"type\": \"scatterternary\"}], \"surface\": [{\"colorbar\": {\"outlinewidth\": 0, \"ticks\": \"\"}, \"colorscale\": [[0.0, \"#0d0887\"], [0.1111111111111111, \"#46039f\"], [0.2222222222222222, \"#7201a8\"], [0.3333333333333333, \"#9c179e\"], [0.4444444444444444, \"#bd3786\"], [0.5555555555555556, \"#d8576b\"], [0.6666666666666666, \"#ed7953\"], [0.7777777777777778, \"#fb9f3a\"], [0.8888888888888888, \"#fdca26\"], [1.0, \"#f0f921\"]], \"type\": \"surface\"}], \"table\": [{\"cells\": {\"fill\": {\"color\": \"#EBF0F8\"}, \"line\": {\"color\": \"white\"}}, \"header\": {\"fill\": {\"color\": \"#C8D4E3\"}, \"line\": {\"color\": \"white\"}}, \"type\": \"table\"}]}, \"layout\": {\"annotationdefaults\": {\"arrowcolor\": \"#2a3f5f\", \"arrowhead\": 0, \"arrowwidth\": 1}, \"coloraxis\": {\"colorbar\": {\"outlinewidth\": 0, \"ticks\": \"\"}}, \"colorscale\": {\"diverging\": [[0, \"#8e0152\"], [0.1, \"#c51b7d\"], [0.2, \"#de77ae\"], [0.3, \"#f1b6da\"], [0.4, \"#fde0ef\"], [0.5, \"#f7f7f7\"], [0.6, \"#e6f5d0\"], [0.7, \"#b8e186\"], [0.8, \"#7fbc41\"], [0.9, \"#4d9221\"], [1, \"#276419\"]], \"sequential\": [[0.0, \"#0d0887\"], [0.1111111111111111, \"#46039f\"], [0.2222222222222222, \"#7201a8\"], [0.3333333333333333, \"#9c179e\"], [0.4444444444444444, \"#bd3786\"], [0.5555555555555556, \"#d8576b\"], [0.6666666666666666, \"#ed7953\"], [0.7777777777777778, \"#fb9f3a\"], [0.8888888888888888, \"#fdca26\"], [1.0, \"#f0f921\"]], \"sequentialminus\": [[0.0, \"#0d0887\"], [0.1111111111111111, \"#46039f\"], [0.2222222222222222, \"#7201a8\"], [0.3333333333333333, \"#9c179e\"], [0.4444444444444444, \"#bd3786\"], [0.5555555555555556, \"#d8576b\"], [0.6666666666666666, \"#ed7953\"], [0.7777777777777778, \"#fb9f3a\"], [0.8888888888888888, \"#fdca26\"], [1.0, \"#f0f921\"]]}, \"colorway\": [\"#636efa\", \"#EF553B\", \"#00cc96\", \"#ab63fa\", \"#FFA15A\", \"#19d3f3\", \"#FF6692\", \"#B6E880\", \"#FF97FF\", \"#FECB52\"], \"font\": {\"color\": \"#2a3f5f\"}, \"geo\": {\"bgcolor\": \"white\", \"lakecolor\": \"white\", \"landcolor\": \"#E5ECF6\", \"showlakes\": true, \"showland\": true, \"subunitcolor\": \"white\"}, \"hoverlabel\": {\"align\": \"left\"}, \"hovermode\": \"closest\", \"mapbox\": {\"style\": \"light\"}, \"paper_bgcolor\": \"white\", \"plot_bgcolor\": \"#E5ECF6\", \"polar\": {\"angularaxis\": {\"gridcolor\": \"white\", \"linecolor\": \"white\", \"ticks\": \"\"}, \"bgcolor\": \"#E5ECF6\", \"radialaxis\": {\"gridcolor\": \"white\", \"linecolor\": \"white\", \"ticks\": \"\"}}, \"scene\": {\"xaxis\": {\"backgroundcolor\": \"#E5ECF6\", \"gridcolor\": \"white\", \"gridwidth\": 2, \"linecolor\": \"white\", \"showbackground\": true, \"ticks\": \"\", \"zerolinecolor\": \"white\"}, \"yaxis\": {\"backgroundcolor\": \"#E5ECF6\", \"gridcolor\": \"white\", \"gridwidth\": 2, \"linecolor\": \"white\", \"showbackground\": true, \"ticks\": \"\", \"zerolinecolor\": \"white\"}, \"zaxis\": {\"backgroundcolor\": \"#E5ECF6\", \"gridcolor\": \"white\", \"gridwidth\": 2, \"linecolor\": \"white\", \"showbackground\": true, \"ticks\": \"\", \"zerolinecolor\": \"white\"}}, \"shapedefaults\": {\"line\": {\"color\": \"#2a3f5f\"}}, \"ternary\": {\"aaxis\": {\"gridcolor\": \"white\", \"linecolor\": \"white\", \"ticks\": \"\"}, \"baxis\": {\"gridcolor\": \"white\", \"linecolor\": \"white\", \"ticks\": \"\"}, \"bgcolor\": \"#E5ECF6\", \"caxis\": {\"gridcolor\": \"white\", \"linecolor\": \"white\", \"ticks\": \"\"}}, \"title\": {\"x\": 0.05}, \"xaxis\": {\"automargin\": true, \"gridcolor\": \"white\", \"linecolor\": \"white\", \"ticks\": \"\", \"title\": {\"standoff\": 15}, \"zerolinecolor\": \"white\", \"zerolinewidth\": 2}, \"yaxis\": {\"automargin\": true, \"gridcolor\": \"white\", \"linecolor\": \"white\", \"ticks\": \"\", \"title\": {\"standoff\": 15}, \"zerolinecolor\": \"white\", \"zerolinewidth\": 2}}}},\n",
              "                        {\"responsive\": true}\n",
              "                    ).then(function(){\n",
              "                            \n",
              "var gd = document.getElementById('b31dfe0d-c0c3-4a08-9212-653b5f4b5d7d');\n",
              "var x = new MutationObserver(function (mutations, observer) {{\n",
              "        var display = window.getComputedStyle(gd).display;\n",
              "        if (!display || display === 'none') {{\n",
              "            console.log([gd, 'removed!']);\n",
              "            Plotly.purge(gd);\n",
              "            observer.disconnect();\n",
              "        }}\n",
              "}});\n",
              "\n",
              "// Listen for the removal of the full notebook cells\n",
              "var notebookContainer = gd.closest('#notebook-container');\n",
              "if (notebookContainer) {{\n",
              "    x.observe(notebookContainer, {childList: true});\n",
              "}}\n",
              "\n",
              "// Listen for the clearing of the current output cell\n",
              "var outputEl = gd.closest('.output');\n",
              "if (outputEl) {{\n",
              "    x.observe(outputEl, {childList: true});\n",
              "}}\n",
              "\n",
              "                        })\n",
              "                };\n",
              "                \n",
              "            </script>\n",
              "        </div>\n",
              "</body>\n",
              "</html>"
            ]
          },
          "metadata": {
            "tags": []
          }
        }
      ]
    },
    {
      "cell_type": "code",
      "metadata": {
        "id": "JDh8eZpojZri"
      },
      "source": [
        "def LagrangeCoefficient(InArray,OutArray,Entry,Variable):                           \r\n",
        "  lc = 1\r\n",
        "  for i in range(len(InArray)):\r\n",
        "    if i == Entry:\r\n",
        "      continue\r\n",
        "    else:\r\n",
        "      lc = lc*(Variable - InArray[i])/(InArray[Entry]-InArray[i])\r\n",
        "  return lc\r\n",
        "\r\n",
        "def LagrangeInterpolator(InArray, OutArray, Variable):\r\n",
        "  li = 0\r\n",
        "  for i in range(len(InArray)):\r\n",
        "    li = li + LagrangeCoefficient(InArray,OutArray,i,Variable)*OutArray[i]\r\n",
        "  return li\r\n",
        "\r\n",
        "InValues = [Center,Center+.1,2*Center]\r\n",
        "OutValues = [math.sin(x) for x in InValues]"
      ],
      "execution_count": null,
      "outputs": []
    },
    {
      "cell_type": "code",
      "metadata": {
        "colab": {
          "base_uri": "https://localhost:8080/",
          "height": 281
        },
        "id": "YNpq1D0MIBnu",
        "outputId": "14cf6cb8-6097-4c89-c27f-30ff2fea20be"
      },
      "source": [
        "import matplotlib.pyplot as plt\r\n",
        "import numpy as np\r\n",
        "x = np.arange( 0,Pi,0.1)\r\n",
        "plt.scatter(InValues,OutValues)\r\n",
        "plt.plot(x,LagrangeInterpolator(InValues,OutValues,x))\r\n",
        "plt.plot(x, np.sin(x))\r\n",
        "plt.title('Graph of Lagrange Interpolator')\r\n",
        "plt.legend(['Lagrange Interpolator', 'Sine Wave'])\r\n",
        "\r\n",
        "plt.show()\r\n"
      ],
      "execution_count": null,
      "outputs": [
        {
          "output_type": "display_data",
          "data": {
            "image/png": "[encoded data removed]",
            "text/plain": [
              "<Figure size 432x288 with 1 Axes>"
            ]
          },
          "metadata": {
            "tags": [],
            "needs_background": "light"
          }
        }
      ]
    },
    {
      "cell_type": "code",
      "metadata": {
        "colab": {
          "base_uri": "https://localhost:8080/"
        },
        "id": "UNj9aBHaJE01",
        "outputId": "ae749134-75d7-4379-95f2-1b636652faa2"
      },
      "source": [
        "FunctionErrors = [TrueError(LagrangeInterpolator(InValues,OutValues,Center+.2),math.sin(Center+.2)),TrueError(LagrangeInterpolator(InValues,OutValues,Center+.2),math.sin(Center+.2))]\r\n",
        "FunctionErrors"
      ],
      "execution_count": null,
      "outputs": [
        {
          "output_type": "execute_result",
          "data": {
            "text/plain": [
              "[0.0009511088336823237, 0.0009511088336823237]"
            ]
          },
          "metadata": {
            "tags": []
          },
          "execution_count": 12
        }
      ]
    },
    {
      "cell_type": "code",
      "metadata": {
        "colab": {
          "base_uri": "https://localhost:8080/"
        },
        "id": "yr3LazcCJOFt",
        "outputId": "516f3755-fa73-4dad-83f0-1ef749f71f01"
      },
      "source": [
        "SecondDerivativeOfLagrangeInterpolation = 2*OutValues[0]/((InValues[0]-InValues[1])*(InValues[0]-InValues[2]))+2*OutValues[1]/((InValues[1]-InValues[0])*(InValues[1]-InValues[2]))+2*OutValues[2]/((InValues[2]-InValues[0])*(InValues[2]-InValues[1]))\r\n",
        "SecondDerivativeOfLagrangeInterpolation"
      ],
      "execution_count": null,
      "outputs": [
        {
          "output_type": "execute_result",
          "data": {
            "text/plain": [
              "-0.8686330376211258"
            ]
          },
          "metadata": {
            "tags": []
          },
          "execution_count": 13
        }
      ]
    },
    {
      "cell_type": "code",
      "metadata": {
        "colab": {
          "base_uri": "https://localhost:8080/"
        },
        "id": "BxpFhoj0JRvj",
        "outputId": "198b359e-b5eb-4cc2-9171-48f52281d88a"
      },
      "source": [
        "SecondDerivativeErrors = [TrueError(SecondDerivativeOfLagrangeInterpolation,-1/Sqrt2),RelativeTrueError(SecondDerivativeOfLagrangeInterpolation,-1/Sqrt2)]\r\n",
        "SecondDerivativeErrors"
      ],
      "execution_count": null,
      "outputs": [
        {
          "output_type": "execute_result",
          "data": {
            "text/plain": [
              "[0.1615262564345783, -0.22843262252913507]"
            ]
          },
          "metadata": {
            "tags": []
          },
          "execution_count": 14
        }
      ]
    },
    {
      "cell_type": "markdown",
      "metadata": {
        "id": "MstqMn18Bqu3"
      },
      "source": [
        "e Lagrange interpolating polynomial is the polynomial P(x) of degree <=(n-1) that passes through the n points (x_1,y_1=f(x_1)),  (x_2,y_2=f(x_2)), ..., (x_n,y_n=f(x_n)), and is given by\n",
        "\n",
        " P(x)=sum_(j=1)^nP_j(x), \t\n",
        "(1)\n",
        "where\n",
        "\n",
        " P_j(x)=y_jproduct_(k=1; k!=j)^n(x-x_k)/(x_j-x_k). \t\n",
        "(2)\n",
        "Written explicitly,\n",
        "\n",
        "P(x)\t=\t((x-x_2)(x-x_3)...(x-x_n))/((x_1-x_2)(x_1-x_3)...(x_1-x_n))y_1+((x-x_1)(x-x_3)...(x-x_n))/((x_2-x_1)(x_2-x_3)...(x_2-x_n))y_2+...+((x-x_1)(x-x_2)...(x-x_(n-1)))/((x_n-x_1)(x_n-x_2)...(x_n-x_(n-1)))y_n."
      ]
    },
    {
      "cell_type": "markdown",
      "metadata": {
        "id": "3EfQsg10Bxdn"
      },
      "source": [
        "The weighting function L(x) in Lagrange interpolation is based on a product of n-1 terms with terms of i=j ommitted which mainly dermines the function of it. One use is to find out the upward velocity of a rocket."
      ]
    }
  ]
}