{
  "nbformat": 4,
  "nbformat_minor": 0,
  "metadata": {
    "colab": {
      "name": "StricklerEthan_CPSMA4413_Project7.ipynb",
      "provenance": [],
      "collapsed_sections": [],
      "include_colab_link": true
    },
    "kernelspec": {
      "name": "python3",
      "display_name": "Python 3"
    }
  },
  "cells": [
    {
      "cell_type": "markdown",
      "metadata": {
        "id": "view-in-github",
        "colab_type": "text"
      },
      "source": [
        "<a href=\"https://colab.research.google.com/github/estrickler1/CSPMA4413/blob/main/StricklerEthan_CPSMA4413_Project7.ipynb\" target=\"_parent\"><img src=\"https://colab.research.google.com/assets/colab-badge.svg\" alt=\"Open In Colab\"/></a>"
      ]
    },
    {
      "cell_type": "markdown",
      "metadata": {
        "id": "cdJSitFeXkDW"
      },
      "source": [
        "Group Project 7: Reimann Sum Integral, Professor Njacob, Numerical Methods Course\r\n",
        "\r\n",
        "The authors of this code\r\n",
        "\r\n",
        "Chiran Rayamajhi\r\n",
        "\r\n",
        "Bigyan Sharma\r\n",
        "\r\n",
        "Ethan Strickler\r\n",
        "\r\n",
        "Watan Chadhaury"
      ]
    },
    {
      "cell_type": "code",
      "metadata": {
        "id": "h5qowxBk13Kg"
      },
      "source": [
        "import math as m\r\n",
        "import matplotlib.pyplot as plt\r\n",
        "import numpy as np\r\n",
        "import pandas as pa\r\n",
        "from scipy import integrate"
      ],
      "execution_count": 4,
      "outputs": []
    },
    {
      "cell_type": "markdown",
      "metadata": {
        "id": "qSW97M_p6Oaa"
      },
      "source": [
        "To solve the integration of our function, sin(X), by hand; we must take the following steps.\r\n",
        "\r\n",
        "$$\r\n",
        "\\begin{align}\r\n",
        "A = \\int_0^\\pi \\sin x \\ dx\\\\\r\n",
        "A = -\\cos x\\vert_0^\\pi\\\\\r\n",
        "A = -\\cos\\pi+\\cos 0\\\\\r\n",
        "A = -(-1) + 1\\\\\r\n",
        "A = 2 \r\n",
        "\\end{align}\r\n",
        "$$"
      ]
    },
    {
      "cell_type": "code",
      "metadata": {
        "id": "SfrefW3N2mzx"
      },
      "source": [
        "Pi = m.pi\r\n",
        "Function = lambda x: m.sin(x)\r\n",
        "FunctionIntergration = integrate.quad(Function, 0, Pi)"
      ],
      "execution_count": 5,
      "outputs": []
    },
    {
      "cell_type": "code",
      "metadata": {
        "colab": {
          "base_uri": "https://localhost:8080/"
        },
        "id": "0EK2GyNV5Btv",
        "outputId": "1b6fff78-9d17-45fa-836e-28e3ffb4a5dc"
      },
      "source": [
        "FunctionIntergration"
      ],
      "execution_count": 6,
      "outputs": [
        {
          "output_type": "execute_result",
          "data": {
            "text/plain": [
              "(2.0, 2.220446049250313e-14)"
            ]
          },
          "metadata": {
            "tags": []
          },
          "execution_count": 6
        }
      ]
    },
    {
      "cell_type": "code",
      "metadata": {
        "colab": {
          "base_uri": "https://localhost:8080/",
          "height": 282
        },
        "id": "Ov_0fOcC5DMH",
        "outputId": "fc3d41d0-03e9-4e06-bf9c-0f95d614df60"
      },
      "source": [
        "x = np.arange( 0, Pi, Pi/128)\r\n",
        "plt.plot(x, np.sin(x))"
      ],
      "execution_count": 7,
      "outputs": [
        {
          "output_type": "execute_result",
          "data": {
            "text/plain": [
              "[<matplotlib.lines.Line2D at 0x7f62cb5fc690>]"
            ]
          },
          "metadata": {
            "tags": []
          },
          "execution_count": 7
        },
        {
          "output_type": "display_data",
          "data": {
            "image/png": "[encoded data removed]",
            "text/plain": [
              "<Figure size 432x288 with 1 Axes>"
            ]
          },
          "metadata": {
            "tags": [],
            "needs_background": "light"
          }
        }
      ]
    },
    {
      "cell_type": "markdown",
      "metadata": {
        "id": "o_OQTzK7bpjE"
      },
      "source": [
        "#Riemann Sum\r\n",
        "In mathematics, Integration can be defined as a way to find the area under a curve from one point to another. It is represented by\r\n",
        "$$\r\n",
        "\\begin{align}\r\n",
        "A = \\int_a^b F (x) \\ dx\\\\\r\n",
        "\r\n",
        "\\end{align}\r\n",
        "$$\r\n",
        "\r\n",
        "**Riemann sum** is a certain kind of approximation of an integral by a finite sum. It gives us a method for computing an approximation of an integral and also helps us to define the integral. \r\n",
        "A Riemann sum of a function *F(X)* over a partition $ X_0=a<X_1<........Xn-1<X_n=b $  is sum of \r\n",
        "$$\r\n",
        "\\begin{align}\r\n",
        "\\sum_i^n f(x_i^*) (x_i-x_(i-1)) , x_i^*          \\\\\r\n",
        "   [:~x_(i-1), x_i]\r\n",
        "\\end{align}\r\n",
        "$$\r\n",
        "Where each value $  x_i^* $ in each subinterval is arbitrary.\r\n",
        "\r\n",
        "The value  $  x_i^* $ chosen in each subinterval is arbitrary however there are certain obvious choices:\r\n",
        "*   A left Riemann sum is when each $  x_i^* =x_(i-1) $  is the left endpoint of the subinterval [$x_(i-1), x_i$]\r\n",
        "*   A right Riemann sum is when each $  x_i^* =x_i $ is the right endpoint of the subinterval [$x_(i-1), x_i$]\r\n",
        "*   A midpoint Riemann sum is when each $  x_i^* = ((x_(i-1)+x_i)/2 $ is the midpoint of the subinterval [$x_(i-1), x_i$]\r\n",
        "\r\n",
        "\r\n",
        "\r\n"
      ]
    },
    {
      "cell_type": "markdown",
      "metadata": {
        "id": "wGyVHFOr2fpM"
      },
      "source": [
        "In simple words, drawing the rectangles underneath the curve on the graph helps to find the value of integral by adding the areas of those rectangles and also tells us whether the values were over-estimated or under-estimated or equal."
      ]
    },
    {
      "cell_type": "code",
      "metadata": {
        "id": "3M9tJnawrB_t"
      },
      "source": [
        "import numpy as np\r\n",
        "import matplotlib.pyplot as plt\r\n",
        "%matplotlib inline"
      ],
      "execution_count": 8,
      "outputs": []
    },
    {
      "cell_type": "code",
      "metadata": {
        "id": "xLxO8yhQ0mlI",
        "colab": {
          "base_uri": "https://localhost:8080/",
          "height": 231
        },
        "outputId": "31a73a7a-ff00-4b98-c724-17a2a4053bd8"
      },
      "source": [
        "dx = (b-a)/N\r\n",
        "x_left = np.linspace(a,b-dx,N)\r\n",
        "x_midpoint = np.linspace(dx/2,b - dx/2,N)\r\n",
        "x_right = np.linspace(dx,b,N)\r\n",
        "\r\n",
        "print(\"Partition with\",N,\"subintervals.\")\r\n",
        "left_riemann_sum = np.sum(f(x_left) * dx)\r\n",
        "print(\"Left Riemann Sum:\",left_riemann_sum)\r\n",
        "\r\n",
        "midpoint_riemann_sum = np.sum(f(x_midpoint) * dx)\r\n",
        "print(\"Midpoint Riemann Sum:\",midpoint_riemann_sum)\r\n",
        "\r\n",
        "right_riemann_sum = np.sum(f(x_right) * dx)\r\n",
        "print(\"Right Riemann Sum:\",right_riemann_sum)"
      ],
      "execution_count": 9,
      "outputs": [
        {
          "output_type": "error",
          "ename": "NameError",
          "evalue": "ignored",
          "traceback": [
            "\u001b[0;31m---------------------------------------------------------------------------\u001b[0m",
            "\u001b[0;31mNameError\u001b[0m                                 Traceback (most recent call last)",
            "\u001b[0;32m<ipython-input-9-1a8c330bce71>\u001b[0m in \u001b[0;36m<module>\u001b[0;34m()\u001b[0m\n\u001b[0;32m----> 1\u001b[0;31m \u001b[0mdx\u001b[0m \u001b[0;34m=\u001b[0m \u001b[0;34m(\u001b[0m\u001b[0mb\u001b[0m\u001b[0;34m-\u001b[0m\u001b[0ma\u001b[0m\u001b[0;34m)\u001b[0m\u001b[0;34m/\u001b[0m\u001b[0mN\u001b[0m\u001b[0;34m\u001b[0m\u001b[0;34m\u001b[0m\u001b[0m\n\u001b[0m\u001b[1;32m      2\u001b[0m \u001b[0mx_left\u001b[0m \u001b[0;34m=\u001b[0m \u001b[0mnp\u001b[0m\u001b[0;34m.\u001b[0m\u001b[0mlinspace\u001b[0m\u001b[0;34m(\u001b[0m\u001b[0ma\u001b[0m\u001b[0;34m,\u001b[0m\u001b[0mb\u001b[0m\u001b[0;34m-\u001b[0m\u001b[0mdx\u001b[0m\u001b[0;34m,\u001b[0m\u001b[0mN\u001b[0m\u001b[0;34m)\u001b[0m\u001b[0;34m\u001b[0m\u001b[0;34m\u001b[0m\u001b[0m\n\u001b[1;32m      3\u001b[0m \u001b[0mx_midpoint\u001b[0m \u001b[0;34m=\u001b[0m \u001b[0mnp\u001b[0m\u001b[0;34m.\u001b[0m\u001b[0mlinspace\u001b[0m\u001b[0;34m(\u001b[0m\u001b[0mdx\u001b[0m\u001b[0;34m/\u001b[0m\u001b[0;36m2\u001b[0m\u001b[0;34m,\u001b[0m\u001b[0mb\u001b[0m \u001b[0;34m-\u001b[0m \u001b[0mdx\u001b[0m\u001b[0;34m/\u001b[0m\u001b[0;36m2\u001b[0m\u001b[0;34m,\u001b[0m\u001b[0mN\u001b[0m\u001b[0;34m)\u001b[0m\u001b[0;34m\u001b[0m\u001b[0;34m\u001b[0m\u001b[0m\n\u001b[1;32m      4\u001b[0m \u001b[0mx_right\u001b[0m \u001b[0;34m=\u001b[0m \u001b[0mnp\u001b[0m\u001b[0;34m.\u001b[0m\u001b[0mlinspace\u001b[0m\u001b[0;34m(\u001b[0m\u001b[0mdx\u001b[0m\u001b[0;34m,\u001b[0m\u001b[0mb\u001b[0m\u001b[0;34m,\u001b[0m\u001b[0mN\u001b[0m\u001b[0;34m)\u001b[0m\u001b[0;34m\u001b[0m\u001b[0;34m\u001b[0m\u001b[0m\n\u001b[1;32m      5\u001b[0m \u001b[0;34m\u001b[0m\u001b[0m\n",
            "\u001b[0;31mNameError\u001b[0m: name 'b' is not defined"
          ]
        }
      ]
    },
    {
      "cell_type": "markdown",
      "metadata": {
        "id": "H4HfK_73zBs8"
      },
      "source": [
        "Calculating errors in the estimate using several different numbers of rectangles"
      ]
    },
    {
      "cell_type": "code",
      "metadata": {
        "id": "B2M3zgdixDaE"
      },
      "source": [
        "def riemann_sum(f,a,b,N,method='midpoint'):           #Calculating error taking midpoint as the base\r\n",
        "    dx = (b - a)/N\r\n",
        "    x = np.linspace(a,b,N+1)\r\n",
        "\r\n",
        "    if method == 'left':\r\n",
        "        x_left = x[:-1]\r\n",
        "        return np.sum(f(x_left)*dx)\r\n",
        "    elif method == 'right':\r\n",
        "        x_right = x[1:]\r\n",
        "        return np.sum(f(x_right)*dx)\r\n",
        "    elif method == 'midpoint':\r\n",
        "        x_mid = (x[:-1] + x[1:])/2\r\n",
        "        return np.sum(f(x_mid)*dx)\r\n",
        "    else:\r\n",
        "        raise ValueError(\"Method must be 'left', 'right' or 'midpoint'.\")"
      ],
      "execution_count": null,
      "outputs": []
    },
    {
      "cell_type": "code",
      "metadata": {
        "id": "Hn8k7R8j1IOq"
      },
      "source": [
        "riemann_sum(np.sin,0,np.pi,100)                 #Mid-point Riemann sum"
      ],
      "execution_count": null,
      "outputs": []
    },
    {
      "cell_type": "code",
      "metadata": {
        "id": "wYKU1st21itE"
      },
      "source": [
        "riemann_sum(np.sin,0,np.pi,100,'right')         #right Riemann sum"
      ],
      "execution_count": null,
      "outputs": []
    },
    {
      "cell_type": "code",
      "metadata": {
        "id": "Cc22fAKE1f_R"
      },
      "source": [
        "riemann_sum(np.sin,0,np.pi,100,'left')          #left Riemann sum"
      ],
      "execution_count": null,
      "outputs": []
    },
    {
      "cell_type": "code",
      "metadata": {
        "id": "I5OIcdwWBsIC"
      },
      "source": [
        "f = lambda x : sin(X) #using riemann mid point for the graph\r\n",
        "a = 0; b = 5; N = 100\r\n",
        "n = 100\r\n",
        "f = lambda x: np.sin(x)\r\n",
        "\r\n",
        "x = np.linspace(0,2*np.pi,100)\r\n",
        "y = f(x)\r\n",
        "plt.plot(x,y)\r\n",
        "\r\n",
        "X = np.linspace(np.pi/2,3*np.pi/2,100)\r\n",
        "Y = f(X)\r\n",
        "plt.fill_between(X,Y)\r\n",
        "\r\n",
        "plt.subplot(1,3,2)\r\n",
        "plt.plot(X,Y,'b')\r\n",
        "x_mid = (x[:-1] + x[1:])/2 # Midpoints\r\n",
        "y_mid = f(x_mid)\r\n",
        "plt.plot(x_mid,y_mid,'b.',markersize=2)\r\n",
        "plt.bar(x_mid,y_mid,width=(b-a)/N,alpha=0.2,edgecolor='b')\r\n",
        "plt.title('Midpoint Riemann Sum, N = {}'.format(N))\r\n",
        "\r\n",
        "plt.show()"
      ],
      "execution_count": null,
      "outputs": []
    },
    {
      "cell_type": "markdown",
      "metadata": {
        "id": "DRbTn_c6p3N1"
      },
      "source": [
        "Simpsons 1/3 rule\r\n"
      ]
    },
    {
      "cell_type": "code",
      "metadata": {
        "id": "h3gwj1f3qU0_"
      },
      "source": [
        "def simpson(Function, a, b , n):\r\n",
        "  def Deltax(a,b,n):\r\n",
        "    return (b-a)/n\r\n",
        "\r\n",
        "  X = Deltax(a,b,n)\r\n",
        "  sum = 0\r\n",
        "  for I in range(2,n,8):\r\n",
        "    sum = sum + 4*Function(a+X*I)\r\n",
        "  for I in range(0,n,4):\r\n",
        "    sum = sum + 2*Function(a+X*I)\r\n",
        "  for I in [a,b]:\r\n",
        "    sum = sum + Function(I)\r\n",
        "  sum = X /3 *sum \r\n",
        "  return sum"
      ],
      "execution_count": 10,
      "outputs": []
    },
    {
      "cell_type": "code",
      "metadata": {
        "id": "8FwFYm5D-nnD"
      },
      "source": [
        ""
      ],
      "execution_count": null,
      "outputs": []
    },
    {
      "cell_type": "code",
      "metadata": {
        "id": "XAerU7blsd53"
      },
      "source": [
        "simpson(np.sin, 2 ,8,4)"
      ],
      "execution_count": null,
      "outputs": []
    },
    {
      "cell_type": "markdown",
      "metadata": {
        "id": "epIwso1LCynh"
      },
      "source": [
        "#Findings\r\n",
        "Here, we have used $ sin(x) $ as our example. After using the Riemann sum in the $ sin(x) $. We found that the mid-point was  the exact value of the $ sin(x) $ i.e. 2. In this function i.e. $ sin(x), $ all the endpoints were **overestimated** where as  the center endpoints were almost close to the actual value. We came to a conclusion from observing the rectangle in the graph if the rectangle falls under the curve then the endpoints are underestimated and ,if it lies over the curve , they are overestimated. \r\n",
        "\r\n",
        "Given, an strictly increasing function we would choose the function $ f(x)=sin(x)+cos(x) on [0,2\\pi] $. Here, we  will choose the algorithm Riemann sum midpoint rule. Here, $f(x)$ is increasing on $ [0,\\pi/4] $ and decreasing on $[\\pi/4, 5\\pi/4] $ \r\n",
        "\r\n",
        "As, we also know Reimann Sum have some drawbacks. It doesnt behave nicely with respect to point-wise limits. for example, the integration of function f(x)dx=0, the f converges pointwise to 1 [0,1], which is not even Riemann integrable. Similarly, the conclusion can also be drawn from Reimann sum graph that it always have minimum values on the left side , so is underestimate and right side has the maximum values , so is overestimate."
      ]
    }
  ]
}