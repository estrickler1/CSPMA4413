{
  "nbformat": 4,
  "nbformat_minor": 0,
  "metadata": {
    "colab": {
      "name": "StricklerEthan_CPSMA4413_Project4.ipynb",
      "provenance": [],
      "collapsed_sections": [],
      "include_colab_link": true
    },
    "kernelspec": {
      "name": "python3",
      "display_name": "Python 3"
    }
  },
  "cells": [
    {
      "cell_type": "markdown",
      "metadata": {
        "id": "view-in-github",
        "colab_type": "text"
      },
      "source": [
        "<a href=\"https://colab.research.google.com/github/estrickler1/CSPMA4413/blob/main/StricklerEthan_CPSMA4413_Project4.ipynb\" target=\"_parent\"><img src=\"https://colab.research.google.com/assets/colab-badge.svg\" alt=\"Open In Colab\"/></a>"
      ]
    },
    {
      "cell_type": "markdown",
      "metadata": {
        "id": "ybszZi-UzbCF"
      },
      "source": [
        "Group Project 4:\r\n",
        "\r\n",
        "The authors of this code \r\n",
        "\r\n",
        "Chiran Rayamajhi\r\n",
        "\r\n",
        "Bigyan Sharma\r\n",
        "\r\n",
        "Ethan Strickler \r\n",
        "\r\n",
        "Watan Chadhaury."
      ]
    },
    {
      "cell_type": "code",
      "metadata": {
        "id": "E3p-sA6THReo"
      },
      "source": [
        "import math as m\r\n",
        "import numpy as np\r\n",
        "\r\n",
        "\r\n",
        "def Swap(Matrix, Row1, Row2):                                                     #swapping rows\r\n",
        "  Matrix2 = []\r\n",
        "\r\n",
        "  for i in range(len(Matrix)):\r\n",
        "\r\n",
        "    if i == Row1:\r\n",
        "      Matrix2.append(Matrix[Row2,:])\r\n",
        "\r\n",
        "    elif i == Row2:\r\n",
        "      Matrix2.append(Matrix[Row1,:])\r\n",
        "\r\n",
        "    else:\r\n",
        "      Matrix2.append(Matrix[i,:])\r\n",
        "\r\n",
        "  return np.array(Matrix2)\r\n",
        "\r\n",
        "\r\n",
        "def Add(Matrix, Row, ChangingRow):                                                    #Adding rows                             \r\n",
        "  NewRow = Matrix[Row,:] + Matrix[ChangingRow,:]\r\n",
        "  Matrix2 = []\r\n",
        "\r\n",
        "  for i in range(len(Matrix)):\r\n",
        "\r\n",
        "    if i == ChangingRow:\r\n",
        "      Matrix2.append(Matrix[NewRow,:])\r\n",
        "\r\n",
        "    else:\r\n",
        "      Matrix2.append(Matrix[i,:])\r\n",
        "\r\n",
        "    return np.array(Matrix2)\r\n",
        "\r\n",
        "\r\n",
        "def Multiply(Matrix, Row, Value):                                                    #Multiplying by a constant\r\n",
        "  NewRow = Matrix[Row,:] * Value\r\n",
        "  Matrix2 = []\r\n",
        "\r\n",
        "  for i in range(len(Matrix)):\r\n",
        "\r\n",
        "    if i == Row:\r\n",
        "      Matrix2.append(NewRow)\r\n",
        "\r\n",
        "    else:\r\n",
        "      Matrix2.append(Matrix[i,:])\r\n",
        "\r\n",
        "  return np.array(Matrix2)"
      ],
      "execution_count": 30,
      "outputs": []
    },
    {
      "cell_type": "markdown",
      "metadata": {
        "id": "9mNivyqX6HlF"
      },
      "source": [
        "//Algorithm for solving the system of equations using Guass Jordan elimation method\r\n",
        "1. First we need to start the solution.\r\n",
        "2. Then ,read the number of unknown matrix denoted by: matrix  \r\n",
        "3. Then again, read the Augumented Matrix (A) \r\n",
        "4. Transform the  required Augumented Matrix (A) to the Diagonal Matrix by using  Row Operations. \r\n",
        "5. Obtain the solution by making all Diagonal elements to 1. \r\n",
        "6. Dipslay the result of the required matrix.\r\n",
        "7. Stop the solution. "
      ]
    },
    {
      "cell_type": "code",
      "metadata": {
        "id": "37EZqepltfro"
      },
      "source": [
        "A = np.array([[2,3,1],[2,0,2]])"
      ],
      "execution_count": 31,
      "outputs": []
    },
    {
      "cell_type": "code",
      "metadata": {
        "id": "xbQwVRaGqdIq",
        "colab": {
          "base_uri": "https://localhost:8080/"
        },
        "outputId": "25e5c127-ff5d-458a-a2ec-ff0c3a7d7865"
      },
      "source": [
        "Add(A,0,1)"
      ],
      "execution_count": 32,
      "outputs": [
        {
          "output_type": "execute_result",
          "data": {
            "text/plain": [
              "array([[2, 3, 1]])"
            ]
          },
          "metadata": {
            "tags": []
          },
          "execution_count": 32
        }
      ]
    },
    {
      "cell_type": "code",
      "metadata": {
        "id": "XGhFOJAxrMlU",
        "colab": {
          "base_uri": "https://localhost:8080/"
        },
        "outputId": "ac986289-814e-4364-9d72-9e31e4e9334b"
      },
      "source": [
        "Swap(A,0,1)"
      ],
      "execution_count": 33,
      "outputs": [
        {
          "output_type": "execute_result",
          "data": {
            "text/plain": [
              "array([[2, 0, 2],\n",
              "       [2, 3, 1]])"
            ]
          },
          "metadata": {
            "tags": []
          },
          "execution_count": 33
        }
      ]
    },
    {
      "cell_type": "code",
      "metadata": {
        "id": "A17PIqV3rR85",
        "colab": {
          "base_uri": "https://localhost:8080/"
        },
        "outputId": "e7c31bdc-092c-4b2e-b51e-42e77033db70"
      },
      "source": [
        "Multiply(A,1,3)"
      ],
      "execution_count": 34,
      "outputs": [
        {
          "output_type": "execute_result",
          "data": {
            "text/plain": [
              "array([[2, 3, 1],\n",
              "       [6, 0, 6]])"
            ]
          },
          "metadata": {
            "tags": []
          },
          "execution_count": 34
        }
      ]
    },
    {
      "cell_type": "code",
      "metadata": {
        "id": "HC20k8wSFbZu"
      },
      "source": [
        "def LeadingOne(Matrix,Row,Column):\r\n",
        "  Matrix2 =[]\r\n",
        "  for i in range(len(Matrix)):\r\n",
        "    if i != Row:\r\n",
        "      Matrix2.append(Matrix[i,:])\r\n",
        "    else:\r\n",
        "      Matrix2.append(1/Matrix[Row,Column]*Matrix[Row,:])\r\n",
        "  return np.array(Matrix2)"
      ],
      "execution_count": 35,
      "outputs": []
    },
    {
      "cell_type": "code",
      "metadata": {
        "id": "WQXnD_dxGUrn"
      },
      "source": [
        "def AddMultiply(Matrix, ChangingRow, Row, Value):\r\n",
        "  NewRow = Matrix[ChangingRow,:]+Value*Matrix[Row,:]\r\n",
        "  Matrix2 = []\r\n",
        "  for i in range(len(Matrix)):\r\n",
        "    if i != ChangingRow:\r\n",
        "      Matrix2.append(Matrix[i,:])\r\n",
        "    else:\r\n",
        "      Matrix2.append(NewRow)\r\n",
        "  return np.array(Matrix2)"
      ],
      "execution_count": 36,
      "outputs": []
    },
    {
      "cell_type": "code",
      "metadata": {
        "id": "ASDY7bCMlLEF"
      },
      "source": [
        "def GaussJordan(Matrix):                                                              #performing Gauss-Jordan process on leading one\r\n",
        "  Matrix2 = Matrix\r\n",
        "  for Pivot in range(len(Matrix)):\r\n",
        "    Matrix2 = LeadingOne(Matrix2,Pivot,Pivot)\r\n",
        "    for Column in range(0,Pivot):\r\n",
        "      Matrix2 = AddMultiply(Matrix2,Column,Pivot,-Matrix2[Column,Pivot])\r\n",
        "    for Column in range(Pivot+1,len(Matrix)):\r\n",
        "      Matrix2 = AddMultiply(Matrix2,Column,Pivot,-Matrix2[Column,Pivot])\r\n",
        "  return Matrix2"
      ],
      "execution_count": 37,
      "outputs": []
    },
    {
      "cell_type": "code",
      "metadata": {
        "id": "3KXzj818uIM1",
        "colab": {
          "base_uri": "https://localhost:8080/"
        },
        "outputId": "0427b39e-cb18-4040-ec55-5a701030559b"
      },
      "source": [
        "GaussJordan(A)"
      ],
      "execution_count": 38,
      "outputs": [
        {
          "output_type": "execute_result",
          "data": {
            "text/plain": [
              "array([[ 1.        ,  0.        ,  1.        ],\n",
              "       [-0.        ,  1.        , -0.33333333]])"
            ]
          },
          "metadata": {
            "tags": []
          },
          "execution_count": 38
        }
      ]
    },
    {
      "cell_type": "markdown",
      "metadata": {
        "id": "pS_pRpb_x6Yr"
      },
      "source": [
        " now for 3x4 matrix\r\n",
        " "
      ]
    },
    {
      "cell_type": "code",
      "metadata": {
        "id": "YYrQUG7FyA0z"
      },
      "source": [
        "B = np.array([[1,0,0,1],[0,1,2,3],[2,0,4,3]])"
      ],
      "execution_count": 39,
      "outputs": []
    },
    {
      "cell_type": "code",
      "metadata": {
        "id": "X5N6YZKgyhUV",
        "colab": {
          "base_uri": "https://localhost:8080/"
        },
        "outputId": "389cb4c1-8c64-4d6a-da25-f91e45153643"
      },
      "source": [
        "B = AddMultiply(B,1,0,-2)\r\n",
        "B"
      ],
      "execution_count": 40,
      "outputs": [
        {
          "output_type": "execute_result",
          "data": {
            "text/plain": [
              "array([[ 1,  0,  0,  1],\n",
              "       [-2,  1,  2,  1],\n",
              "       [ 2,  0,  4,  3]])"
            ]
          },
          "metadata": {
            "tags": []
          },
          "execution_count": 40
        }
      ]
    },
    {
      "cell_type": "code",
      "metadata": {
        "id": "Cp1-uj3LywHL",
        "colab": {
          "base_uri": "https://localhost:8080/"
        },
        "outputId": "c9171eac-c87e-493b-e419-ce704c8749c6"
      },
      "source": [
        "B = AddMultiply(B,0,1,2)\r\n",
        "B"
      ],
      "execution_count": 41,
      "outputs": [
        {
          "output_type": "execute_result",
          "data": {
            "text/plain": [
              "array([[-3,  2,  4,  3],\n",
              "       [-2,  1,  2,  1],\n",
              "       [ 2,  0,  4,  3]])"
            ]
          },
          "metadata": {
            "tags": []
          },
          "execution_count": 41
        }
      ]
    },
    {
      "cell_type": "markdown",
      "metadata": {
        "id": "tbbJ_QkYzDyV"
      },
      "source": [
        "Swapping\r\n"
      ]
    },
    {
      "cell_type": "code",
      "metadata": {
        "id": "KcDHUxkYzI0-",
        "colab": {
          "base_uri": "https://localhost:8080/"
        },
        "outputId": "38f9eb94-e58f-49d6-e788-39c6d351edda"
      },
      "source": [
        "Swap(B,0,1)"
      ],
      "execution_count": 42,
      "outputs": [
        {
          "output_type": "execute_result",
          "data": {
            "text/plain": [
              "array([[-2,  1,  2,  1],\n",
              "       [-3,  2,  4,  3],\n",
              "       [ 2,  0,  4,  3]])"
            ]
          },
          "metadata": {
            "tags": []
          },
          "execution_count": 42
        }
      ]
    },
    {
      "cell_type": "markdown",
      "metadata": {
        "id": "wqutgQXOzfw9"
      },
      "source": [
        "Multiply\r\n"
      ]
    },
    {
      "cell_type": "code",
      "metadata": {
        "id": "qOeAAvYcIwCE",
        "colab": {
          "base_uri": "https://localhost:8080/"
        },
        "outputId": "1d618857-290e-48f5-b93b-afe7b70678f1"
      },
      "source": [
        "Multiply(B,1,2)"
      ],
      "execution_count": 43,
      "outputs": [
        {
          "output_type": "execute_result",
          "data": {
            "text/plain": [
              "array([[-3,  2,  4,  3],\n",
              "       [-4,  2,  4,  2],\n",
              "       [ 2,  0,  4,  3]])"
            ]
          },
          "metadata": {
            "tags": []
          },
          "execution_count": 43
        }
      ]
    },
    {
      "cell_type": "code",
      "metadata": {
        "id": "K9O7_MwQqJRv"
      },
      "source": [
        "c = np.array([[1,-2,2],[2,-4,4]])"
      ],
      "execution_count": 44,
      "outputs": []
    },
    {
      "cell_type": "code",
      "metadata": {
        "colab": {
          "base_uri": "https://localhost:8080/"
        },
        "id": "G3PbPdXdqaSZ",
        "outputId": "5faeb706-7221-4827-fec6-fe5c7735c949"
      },
      "source": [
        "GaussJordan(c)"
      ],
      "execution_count": 45,
      "outputs": [
        {
          "output_type": "stream",
          "text": [
            "/usr/local/lib/python3.6/dist-packages/ipykernel_launcher.py:7: RuntimeWarning: divide by zero encountered in double_scalars\n",
            "  import sys\n",
            "/usr/local/lib/python3.6/dist-packages/ipykernel_launcher.py:7: RuntimeWarning: invalid value encountered in multiply\n",
            "  import sys\n"
          ],
          "name": "stderr"
        },
        {
          "output_type": "execute_result",
          "data": {
            "text/plain": [
              "array([[nan, nan, nan],\n",
              "       [nan, nan, nan]])"
            ]
          },
          "metadata": {
            "tags": []
          },
          "execution_count": 45
        }
      ]
    },
    {
      "cell_type": "markdown",
      "metadata": {
        "id": "0AKrtCSZqhhR"
      },
      "source": [
        "The prior matrix does not work. This is because the martix had infinitly many solutions. To fix the algorithm to run properly, there could be an if statement. This statement would be placed after the for loops, and state that if an entire row has zeros, then return infinite solutions. However, the algorithm works as long as there is only one unique solution. "
      ]
    }
  ]
}