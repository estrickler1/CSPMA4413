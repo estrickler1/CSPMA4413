{
  "nbformat": 4,
  "nbformat_minor": 0,
  "metadata": {
    "colab": {
      "name": "Discussion3.ipynb",
      "provenance": [],
      "authorship_tag": "ABX9TyO2qk1hsCBUJkXPhl5HkKRP",
      "include_colab_link": true
    },
    "kernelspec": {
      "name": "python3",
      "display_name": "Python 3"
    }
  },
  "cells": [
    {
      "cell_type": "markdown",
      "metadata": {
        "id": "view-in-github",
        "colab_type": "text"
      },
      "source": [
        "<a href=\"https://colab.research.google.com/github/estrickler1/CSPMA4413/blob/main/Discussion3.ipynb\" target=\"_parent\"><img src=\"https://colab.research.google.com/assets/colab-badge.svg\" alt=\"Open In Colab\"/></a>"
      ]
    },
    {
      "cell_type": "markdown",
      "metadata": {
        "id": "LpaGQmTC_cYW"
      },
      "source": [
        "2x^3-5x^2+3x+8=0"
      ]
    },
    {
      "cell_type": "code",
      "metadata": {
        "colab": {
          "base_uri": "https://localhost:8080/"
        },
        "id": "GNZ04wxo-g4V",
        "outputId": "a7a08a2a-edfa-4bcf-808d-d52ee3c47291"
      },
      "source": [
        "import math\r\n",
        "\r\n",
        "a=2\r\n",
        "b=-5\r\n",
        "c=3\r\n",
        "d=8\r\n",
        "function = 1/a*(d+(2*b^2)/(27*a^2)-(b*c)/(3*a))\r\n",
        "e = 1/a*(c-b**2/(3*a))\r\n",
        "g = -e/3\r\n",
        "\r\n",
        "w1 = (-function+math.sqrt(function**2+4*e**3/27))/2\r\n",
        "w2 = (-function-math.sqrt(function**2+4*e**3/27))/2\r\n",
        "z1 = w1**(1/3)\r\n",
        "z2 = w2**(1/3)\r\n",
        "y1 = z1 + g/z1\r\n",
        "y2 = z2 + g/z2\r\n",
        "x1 = y1 - b/(3*a)\r\n",
        "x2 = y2 - b/(3*a)\r\n",
        "print(x1,x2)"
      ],
      "execution_count": 18,
      "outputs": [
        {
          "output_type": "stream",
          "text": [
            "(1.7522060861146902-1.3962979889975604j) (1.7522060861146884+1.3962979889975564j)\n"
          ],
          "name": "stdout"
        }
      ]
    },
    {
      "cell_type": "code",
      "metadata": {
        "colab": {
          "base_uri": "https://localhost:8080/",
          "height": 299
        },
        "id": "Jc2HUmJE-4kV",
        "outputId": "d8f1c74f-3541-4484-d632-c872e29f977f"
      },
      "source": [
        "import matplotlib.pyplot as plt\r\n",
        "import numpy as np\r\n",
        "\r\n",
        "xaxis = np.arange(-5, 6, 0.1)\r\n",
        "xfunction = a*t**3+b*t**2+c*t+d\r\n",
        "\r\n",
        "\r\n",
        "plt.plot(xaxis, xfunction)\r\n",
        "plt.plot(x1, 0, 'o-')\r\n",
        "plt.grid()"
      ],
      "execution_count": 19,
      "outputs": [
        {
          "output_type": "stream",
          "text": [
            "/usr/local/lib/python3.6/dist-packages/numpy/core/_asarray.py:83: ComplexWarning: Casting complex values to real discards the imaginary part\n",
            "  return array(a, dtype, copy=False, order=order)\n"
          ],
          "name": "stderr"
        },
        {
          "output_type": "display_data",
          "data": {
            "image/png": "[encoded data removed]",
            "text/plain": [
              "<Figure size 432x288 with 1 Axes>"
            ]
          },
          "metadata": {
            "tags": [],
            "needs_background": "light"
          }
        }
      ]
    },
    {
      "cell_type": "code",
      "metadata": {
        "id": "Aa-3Vm42BH2T"
      },
      "source": [
        ""
      ],
      "execution_count": null,
      "outputs": []
    }
  ]
}